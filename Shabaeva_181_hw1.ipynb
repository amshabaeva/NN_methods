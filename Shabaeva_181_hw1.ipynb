{
 "cells": [
  {
   "cell_type": "markdown",
   "metadata": {},
   "source": [
    "## Настя Шабаева, БКЛ181\n",
    "\n",
    "### Домашняя работа №1"
   ]
  },
  {
   "cell_type": "markdown",
   "metadata": {},
   "source": [
    "#### Импортируем необходимые пакеты"
   ]
  },
  {
   "cell_type": "code",
   "execution_count": 166,
   "metadata": {},
   "outputs": [
    {
     "name": "stderr",
     "output_type": "stream",
     "text": [
      "[nltk_data] Downloading package wordnet to /Library/Frameworks/Python.\n",
      "[nltk_data]     framework/Versions/3.7/lib/nltk_data...\n",
      "[nltk_data]   Package wordnet is already up-to-date!\n",
      "[nltk_data] Downloading package stopwords to /Library/Frameworks/Pytho\n",
      "[nltk_data]     n.framework/Versions/3.7/lib/nltk_data...\n",
      "[nltk_data]   Package stopwords is already up-to-date!\n"
     ]
    }
   ],
   "source": [
    "import pandas as pd\n",
    "from langdetect import detect\n",
    "\n",
    "import nltk\n",
    "nltk.download('wordnet')\n",
    "nltk.download('stopwords')\n",
    "from nltk.stem import WordNetLemmatizer\n",
    "lemmatizer = WordNetLemmatizer()\n",
    "from nltk.corpus import stopwords\n",
    "\n",
    "from string import punctuation\n",
    "punctuation += '...' + '—' + '…' + '«»'\n",
    "\n",
    "import sklearn\n",
    "from sklearn.feature_extraction.text import TfidfVectorizer\n",
    "vectorizer1 = TfidfVectorizer()\n",
    "from sklearn.feature_extraction.text import CountVectorizer\n",
    "vectorizer2 = CountVectorizer()\n",
    "from sklearn.model_selection import train_test_split, GridSearchCV, RepeatedKFold\n",
    "from sklearn.metrics import *\n",
    "from sklearn.linear_model import LinearRegression, Lasso, Ridge, ElasticNet, LogisticRegression, RidgeClassifier\n",
    "from sklearn.neighbors import KNeighborsClassifier\n",
    "from sklearn.ensemble import RandomForestClassifier\n",
    "from sklearn.tree import DecisionTreeClassifier\n",
    "\n",
    "import seaborn as sns\n",
    "import matplotlib.pyplot as plt"
   ]
  },
  {
   "cell_type": "markdown",
   "metadata": {},
   "source": [
    "#### Скачиваем данные"
   ]
  },
  {
   "cell_type": "code",
   "execution_count": 5,
   "metadata": {},
   "outputs": [],
   "source": [
    "dataframe = pd.read_csv(\"Shoes_Data.csv\")"
   ]
  },
  {
   "cell_type": "markdown",
   "metadata": {},
   "source": [
    "#### Обрабатываем необходимые колонки"
   ]
  },
  {
   "cell_type": "markdown",
   "metadata": {},
   "source": [
    "Убираем из таблицы все строки, в которых описание не на английском языке (поскольку датасет не очень большой, можно сделать это с помощью langdetect, это займет не очень много времени)"
   ]
  },
  {
   "cell_type": "code",
   "execution_count": 6,
   "metadata": {},
   "outputs": [],
   "source": [
    "for index, description in enumerate(dataframe[\"product_description\"]):\n",
    "    try:\n",
    "        if detect(description) != 'en':\n",
    "            dataframe = dataframe.drop(index)\n",
    "    except:\n",
    "        pass\n",
    "    \n",
    "dataframe = dataframe.reset_index(drop = True)"
   ]
  },
  {
   "cell_type": "markdown",
   "metadata": {},
   "source": [
    "Удаляем из датафрейма строки-дубликаты"
   ]
  },
  {
   "cell_type": "code",
   "execution_count": 7,
   "metadata": {
    "scrolled": true
   },
   "outputs": [],
   "source": [
    "dataframe = dataframe.drop_duplicates()\n",
    "dataframe = dataframe.reset_index(drop = True)"
   ]
  },
  {
   "cell_type": "markdown",
   "metadata": {},
   "source": [
    "Приводим колонку с ценами в числовой вид"
   ]
  },
  {
   "cell_type": "code",
   "execution_count": 8,
   "metadata": {},
   "outputs": [],
   "source": [
    "dataframe[\"price\"] = [float(price[1:].split('.')[0]) if price[1:].split('.')[1] != '00' \n",
    "                      else float(price[1:].split('.')[0]) + float(price[1:].split('.')[1]) / 100  \n",
    "                      for price in dataframe['price']]"
   ]
  },
  {
   "cell_type": "markdown",
   "metadata": {},
   "source": [
    "Приводим колонку с количеством отзывов в числовой вид"
   ]
  },
  {
   "cell_type": "code",
   "execution_count": 9,
   "metadata": {},
   "outputs": [],
   "source": [
    "dataframe[\"total_reviews\"] = [int(number.split()[0]) for number in dataframe[\"total_reviews\"]]"
   ]
  },
  {
   "cell_type": "markdown",
   "metadata": {},
   "source": [
    "Приводим колонку с общей оценкой в числовой вид"
   ]
  },
  {
   "cell_type": "code",
   "execution_count": 10,
   "metadata": {},
   "outputs": [],
   "source": [
    "dataframe['rating'] = [float(number.split()[0]) for number in dataframe['rating']]"
   ]
  },
  {
   "cell_type": "markdown",
   "metadata": {},
   "source": [
    "Токенизируем, лемматизируем описание товара, приводим все слова к нижнему регистру, убираем пунктуацию и стоп-слова"
   ]
  },
  {
   "cell_type": "code",
   "execution_count": 11,
   "metadata": {},
   "outputs": [],
   "source": [
    "lemmatized_descriptions = []\n",
    "for index, description in enumerate(dataframe[\"product_description\"]):\n",
    "    for item in punctuation:  # убираем пунктуацию из описаний\n",
    "        without_punct = description.replace(item, '')\n",
    "        description = without_punct\n",
    "    tokenized_descr = nltk.word_tokenize(description.lower())  # токенизируем и приводим к нижнему регистру\n",
    "    lemmatized_descr = [lemmatizer.lemmatize(token) for token in tokenized_descr]  # лемматизируем\n",
    "    without_stopwords = []\n",
    "    for word in lemmatized_descr:  # убираем стоп-слова\n",
    "        if word not in stopwords.words('english'):\n",
    "            without_stopwords.append(word)\n",
    "    lemmatized_descriptions.append(' '.join(without_stopwords))\n",
    "\n",
    "dataframe[\"lemmatized_description\"] = lemmatized_descriptions  # добавляем лемматизированные описания в отдельную колонку\n",
    "\n",
    "for index, description in enumerate(dataframe[\"lemmatized_description\"]):  # чистим от пустых описаний\n",
    "    if description == '':\n",
    "        dataframe = dataframe.drop(index)\n",
    "dataframe = dataframe.reset_index(drop = True)"
   ]
  },
  {
   "cell_type": "code",
   "execution_count": 12,
   "metadata": {
    "scrolled": false
   },
   "outputs": [
    {
     "data": {
      "text/html": [
       "<div>\n",
       "<style scoped>\n",
       "    .dataframe tbody tr th:only-of-type {\n",
       "        vertical-align: middle;\n",
       "    }\n",
       "\n",
       "    .dataframe tbody tr th {\n",
       "        vertical-align: top;\n",
       "    }\n",
       "\n",
       "    .dataframe thead th {\n",
       "        text-align: right;\n",
       "    }\n",
       "</style>\n",
       "<table border=\"1\" class=\"dataframe\">\n",
       "  <thead>\n",
       "    <tr style=\"text-align: right;\">\n",
       "      <th></th>\n",
       "      <th>title</th>\n",
       "      <th>price</th>\n",
       "      <th>rating</th>\n",
       "      <th>total_reviews</th>\n",
       "      <th>product_description</th>\n",
       "      <th>reviews</th>\n",
       "      <th>reviews_rating</th>\n",
       "      <th>Shoe Type</th>\n",
       "      <th>lemmatized_description</th>\n",
       "    </tr>\n",
       "  </thead>\n",
       "  <tbody>\n",
       "    <tr>\n",
       "      <td>0</td>\n",
       "      <td>CLYMB Outdoor Sports Running Shoes for Mens Boy</td>\n",
       "      <td>279.0</td>\n",
       "      <td>2.9</td>\n",
       "      <td>2389</td>\n",
       "      <td>Elevate your style with this classy pair of Ru...</td>\n",
       "      <td>Not happy with product|| It's not as expected....</td>\n",
       "      <td>1.0 out of 5 stars|| 1.0 out of 5 stars|| 3.0 ...</td>\n",
       "      <td>Men</td>\n",
       "      <td>elevate style classy pair running shoe house c...</td>\n",
       "    </tr>\n",
       "    <tr>\n",
       "      <td>1</td>\n",
       "      <td>Bourge Men's Loire-z126 Running Shoes</td>\n",
       "      <td>479.0</td>\n",
       "      <td>3.9</td>\n",
       "      <td>11520</td>\n",
       "      <td>The product will be an excellent pick for you....</td>\n",
       "      <td>Memory cushioning in these shoes is the best f...</td>\n",
       "      <td>5.0 out of 5 stars|| 1.0 out of 5 stars|| 5.0 ...</td>\n",
       "      <td>Men</td>\n",
       "      <td>product excellent pick ensures easy maintenance</td>\n",
       "    </tr>\n",
       "    <tr>\n",
       "      <td>2</td>\n",
       "      <td>T-Rock Men's Sneaker</td>\n",
       "      <td>430.0</td>\n",
       "      <td>3.3</td>\n",
       "      <td>1251</td>\n",
       "      <td>Flaunt with these stylish and unique red casua...</td>\n",
       "      <td>Worth to its amount|| Go for it|| Perfect|| 5 ...</td>\n",
       "      <td>5.0 out of 5 stars|| 5.0 out of 5 stars|| 5.0 ...</td>\n",
       "      <td>Men</td>\n",
       "      <td>flaunt stylish unique red casual shoe per late...</td>\n",
       "    </tr>\n",
       "    <tr>\n",
       "      <td>3</td>\n",
       "      <td>Robbie jones Sneakers Casual Canvas Fabric Col...</td>\n",
       "      <td>499.0</td>\n",
       "      <td>4.2</td>\n",
       "      <td>3</td>\n",
       "      <td>Robbie Jones Shoes Are Designed To Keeping In ...</td>\n",
       "      <td>Sup quality|| Good but not expected|| Awesome 👌.!</td>\n",
       "      <td>5.0 out of 5 stars|| 3.0 out of 5 stars|| 5.0 ...</td>\n",
       "      <td>Men</td>\n",
       "      <td>robbie jones shoe designed keeping mind durabi...</td>\n",
       "    </tr>\n",
       "    <tr>\n",
       "      <td>4</td>\n",
       "      <td>Sparx Men's Sd0323g Sneakers</td>\n",
       "      <td>499.0</td>\n",
       "      <td>4.2</td>\n",
       "      <td>20110</td>\n",
       "      <td>Sparx is a spectacular range of footwear from ...</td>\n",
       "      <td>Best|| Satisfied!|| Affordable beauty 😘😘😘😘 the...</td>\n",
       "      <td>5.0 out of 5 stars|| 5.0 out of 5 stars|| 5.0 ...</td>\n",
       "      <td>Men</td>\n",
       "      <td>sparx spectacular range footwear house relaxo ...</td>\n",
       "    </tr>\n",
       "    <tr>\n",
       "      <td>...</td>\n",
       "      <td>...</td>\n",
       "      <td>...</td>\n",
       "      <td>...</td>\n",
       "      <td>...</td>\n",
       "      <td>...</td>\n",
       "      <td>...</td>\n",
       "      <td>...</td>\n",
       "      <td>...</td>\n",
       "      <td>...</td>\n",
       "    </tr>\n",
       "    <tr>\n",
       "      <td>977</td>\n",
       "      <td>Converse Unisex-Adult Sneakers</td>\n",
       "      <td>7702.0</td>\n",
       "      <td>1.0</td>\n",
       "      <td>1</td>\n",
       "      <td>Converse is Change. We started on the court an...</td>\n",
       "      <td>Colour is not good</td>\n",
       "      <td>1.0 out of 5 stars</td>\n",
       "      <td>Women</td>\n",
       "      <td>converse change started court got adopted stre...</td>\n",
       "    </tr>\n",
       "    <tr>\n",
       "      <td>978</td>\n",
       "      <td>Nike Men's React Vision Running Shoes</td>\n",
       "      <td>7256.0</td>\n",
       "      <td>4.4</td>\n",
       "      <td>200</td>\n",
       "      <td>The Nike react vision is a STORY of surreal co...</td>\n",
       "      <td>Must buy|| not have a great fiting but great q...</td>\n",
       "      <td>5.0 out of 5 stars|| 3.0 out of 5 stars|| 5.0 ...</td>\n",
       "      <td>Women</td>\n",
       "      <td>nike react vision story surreal comfort layere...</td>\n",
       "    </tr>\n",
       "    <tr>\n",
       "      <td>979</td>\n",
       "      <td>Puma Men's B.O.G Limitless Hi Evoknit Sneakers</td>\n",
       "      <td>5822.0</td>\n",
       "      <td>4.3</td>\n",
       "      <td>25</td>\n",
       "      <td>The B.O.G limitless is Puma's key style for th...</td>\n",
       "      <td>Worth buying !|| Classy Bold and Stylish !!|| ...</td>\n",
       "      <td>4.0 out of 5 stars|| 5.0 out of 5 stars|| 3.0 ...</td>\n",
       "      <td>Women</td>\n",
       "      <td>bog limitless puma key style new season inspir...</td>\n",
       "    </tr>\n",
       "    <tr>\n",
       "      <td>980</td>\n",
       "      <td>new balance Women's FuelCell Echolucent Runnin...</td>\n",
       "      <td>5362.0</td>\n",
       "      <td>4.5</td>\n",
       "      <td>817</td>\n",
       "      <td>Lead the pack in New Balance’s Echolucent snea...</td>\n",
       "      <td>size variation in product recd n size chart|| ...</td>\n",
       "      <td>5.0 out of 5 stars|| 5.0 out of 5 stars|| 5.0 ...</td>\n",
       "      <td>Women</td>\n",
       "      <td>lead pack new balance ’ echolucent sneaker sne...</td>\n",
       "    </tr>\n",
       "    <tr>\n",
       "      <td>981</td>\n",
       "      <td>ASICS Women Gt-2000 7 Lite-Show Running Shoes</td>\n",
       "      <td>5719.0</td>\n",
       "      <td>4.1</td>\n",
       "      <td>210</td>\n",
       "      <td>The GT-2000 7 achieves a reassuringly firm rid...</td>\n",
       "      <td>Great shoe|| excellent quality|| Old manufactu...</td>\n",
       "      <td>5.0 out of 5 stars|| 5.0 out of 5 stars|| 3.0 ...</td>\n",
       "      <td>Women</td>\n",
       "      <td>gt2000 7 achieves reassuringly firm ride featu...</td>\n",
       "    </tr>\n",
       "  </tbody>\n",
       "</table>\n",
       "<p>982 rows × 9 columns</p>\n",
       "</div>"
      ],
      "text/plain": [
       "                                                 title   price  rating  \\\n",
       "0      CLYMB Outdoor Sports Running Shoes for Mens Boy   279.0     2.9   \n",
       "1                Bourge Men's Loire-z126 Running Shoes   479.0     3.9   \n",
       "2                                 T-Rock Men's Sneaker   430.0     3.3   \n",
       "3    Robbie jones Sneakers Casual Canvas Fabric Col...   499.0     4.2   \n",
       "4                         Sparx Men's Sd0323g Sneakers   499.0     4.2   \n",
       "..                                                 ...     ...     ...   \n",
       "977                     Converse Unisex-Adult Sneakers  7702.0     1.0   \n",
       "978              Nike Men's React Vision Running Shoes  7256.0     4.4   \n",
       "979     Puma Men's B.O.G Limitless Hi Evoknit Sneakers  5822.0     4.3   \n",
       "980  new balance Women's FuelCell Echolucent Runnin...  5362.0     4.5   \n",
       "981      ASICS Women Gt-2000 7 Lite-Show Running Shoes  5719.0     4.1   \n",
       "\n",
       "     total_reviews                                product_description  \\\n",
       "0             2389  Elevate your style with this classy pair of Ru...   \n",
       "1            11520  The product will be an excellent pick for you....   \n",
       "2             1251  Flaunt with these stylish and unique red casua...   \n",
       "3                3  Robbie Jones Shoes Are Designed To Keeping In ...   \n",
       "4            20110  Sparx is a spectacular range of footwear from ...   \n",
       "..             ...                                                ...   \n",
       "977              1  Converse is Change. We started on the court an...   \n",
       "978            200  The Nike react vision is a STORY of surreal co...   \n",
       "979             25  The B.O.G limitless is Puma's key style for th...   \n",
       "980            817  Lead the pack in New Balance’s Echolucent snea...   \n",
       "981            210  The GT-2000 7 achieves a reassuringly firm rid...   \n",
       "\n",
       "                                               reviews  \\\n",
       "0    Not happy with product|| It's not as expected....   \n",
       "1    Memory cushioning in these shoes is the best f...   \n",
       "2    Worth to its amount|| Go for it|| Perfect|| 5 ...   \n",
       "3    Sup quality|| Good but not expected|| Awesome 👌.!   \n",
       "4    Best|| Satisfied!|| Affordable beauty 😘😘😘😘 the...   \n",
       "..                                                 ...   \n",
       "977                                 Colour is not good   \n",
       "978  Must buy|| not have a great fiting but great q...   \n",
       "979  Worth buying !|| Classy Bold and Stylish !!|| ...   \n",
       "980  size variation in product recd n size chart|| ...   \n",
       "981  Great shoe|| excellent quality|| Old manufactu...   \n",
       "\n",
       "                                        reviews_rating Shoe Type  \\\n",
       "0    1.0 out of 5 stars|| 1.0 out of 5 stars|| 3.0 ...       Men   \n",
       "1    5.0 out of 5 stars|| 1.0 out of 5 stars|| 5.0 ...       Men   \n",
       "2    5.0 out of 5 stars|| 5.0 out of 5 stars|| 5.0 ...       Men   \n",
       "3    5.0 out of 5 stars|| 3.0 out of 5 stars|| 5.0 ...       Men   \n",
       "4    5.0 out of 5 stars|| 5.0 out of 5 stars|| 5.0 ...       Men   \n",
       "..                                                 ...       ...   \n",
       "977                                 1.0 out of 5 stars     Women   \n",
       "978  5.0 out of 5 stars|| 3.0 out of 5 stars|| 5.0 ...     Women   \n",
       "979  4.0 out of 5 stars|| 5.0 out of 5 stars|| 3.0 ...     Women   \n",
       "980  5.0 out of 5 stars|| 5.0 out of 5 stars|| 5.0 ...     Women   \n",
       "981  5.0 out of 5 stars|| 5.0 out of 5 stars|| 3.0 ...     Women   \n",
       "\n",
       "                                lemmatized_description  \n",
       "0    elevate style classy pair running shoe house c...  \n",
       "1      product excellent pick ensures easy maintenance  \n",
       "2    flaunt stylish unique red casual shoe per late...  \n",
       "3    robbie jones shoe designed keeping mind durabi...  \n",
       "4    sparx spectacular range footwear house relaxo ...  \n",
       "..                                                 ...  \n",
       "977  converse change started court got adopted stre...  \n",
       "978  nike react vision story surreal comfort layere...  \n",
       "979  bog limitless puma key style new season inspir...  \n",
       "980  lead pack new balance ’ echolucent sneaker sne...  \n",
       "981  gt2000 7 achieves reassuringly firm ride featu...  \n",
       "\n",
       "[982 rows x 9 columns]"
      ]
     },
     "execution_count": 12,
     "metadata": {},
     "output_type": "execute_result"
    }
   ],
   "source": [
    "dataframe"
   ]
  },
  {
   "cell_type": "markdown",
   "metadata": {},
   "source": [
    "#### Анализ данных"
   ]
  },
  {
   "cell_type": "markdown",
   "metadata": {},
   "source": [
    "Распределение цен (гистограмма и боксплот)\n",
    "Больше всего цен в промежутке от 100 до 1000 евро, в целом большое количество цен до 2500 евро, тех, что выше 5000, мало - выбросы - они могут уменьшить точность работы модели"
   ]
  },
  {
   "cell_type": "code",
   "execution_count": 13,
   "metadata": {},
   "outputs": [
    {
     "data": {
      "text/plain": [
       "<matplotlib.axes._subplots.AxesSubplot at 0x12db1b080>"
      ]
     },
     "execution_count": 13,
     "metadata": {},
     "output_type": "execute_result"
    },
    {
     "data": {
      "image/png": "[encoded data removed]",
      "text/plain": [
       "<Figure size 432x288 with 1 Axes>"
      ]
     },
     "metadata": {
      "needs_background": "light"
     },
     "output_type": "display_data"
    }
   ],
   "source": [
    "dataframe[\"price\"].plot(kind=\"hist\")"
   ]
  },
  {
   "cell_type": "code",
   "execution_count": 14,
   "metadata": {
    "scrolled": true
   },
   "outputs": [
    {
     "data": {
      "text/plain": [
       "<matplotlib.axes._subplots.AxesSubplot at 0x12fc3c128>"
      ]
     },
     "execution_count": 14,
     "metadata": {},
     "output_type": "execute_result"
    },
    {
     "data": {
      "image/png": "[encoded data removed]",
      "text/plain": [
       "<Figure size 432x288 with 1 Axes>"
      ]
     },
     "metadata": {
      "needs_background": "light"
     },
     "output_type": "display_data"
    }
   ],
   "source": [
    "dataframe[\"price\"].plot(kind=\"box\")"
   ]
  },
  {
   "cell_type": "markdown",
   "metadata": {},
   "source": [
    "Распределение длины (количество слов) описаний (уже обработанных, без стоп-слов, без пунктуации, лемматизированных), гистограмма и боксплот. Больше всего описаний, длиной до 50 слов."
   ]
  },
  {
   "cell_type": "code",
   "execution_count": 15,
   "metadata": {},
   "outputs": [
    {
     "data": {
      "text/plain": [
       "<matplotlib.axes._subplots.AxesSubplot at 0x12fd08908>"
      ]
     },
     "execution_count": 15,
     "metadata": {},
     "output_type": "execute_result"
    },
    {
     "data": {
      "image/png": "[encoded data removed]",
      "text/plain": [
       "<Figure size 432x288 with 1 Axes>"
      ]
     },
     "metadata": {
      "needs_background": "light"
     },
     "output_type": "display_data"
    }
   ],
   "source": [
    "len_descr = [len(descr.split(\" \")) for descr in dataframe[\"lemmatized_description\"]]\n",
    "len_descr = pd.Series(len_descr)\n",
    "len_descr.plot(kind=\"hist\")"
   ]
  },
  {
   "cell_type": "code",
   "execution_count": 16,
   "metadata": {
    "scrolled": true
   },
   "outputs": [
    {
     "data": {
      "text/plain": [
       "<matplotlib.axes._subplots.AxesSubplot at 0x12fc2a588>"
      ]
     },
     "execution_count": 16,
     "metadata": {},
     "output_type": "execute_result"
    },
    {
     "data": {
      "image/png": "[encoded data removed]",
      "text/plain": [
       "<Figure size 432x288 with 1 Axes>"
      ]
     },
     "metadata": {
      "needs_background": "light"
     },
     "output_type": "display_data"
    }
   ],
   "source": [
    "len_descr.plot(kind=\"box\")"
   ]
  },
  {
   "cell_type": "code",
   "execution_count": 17,
   "metadata": {
    "scrolled": true
   },
   "outputs": [
    {
     "data": {
      "text/plain": [
       "<matplotlib.axes._subplots.AxesSubplot at 0x12fe52080>"
      ]
     },
     "execution_count": 17,
     "metadata": {},
     "output_type": "execute_result"
    },
    {
     "data": {
      "image/png": "[encoded data removed]",
      "text/plain": [
       "<Figure size 432x288 with 1 Axes>"
      ]
     },
     "metadata": {
      "needs_background": "light"
     },
     "output_type": "display_data"
    }
   ],
   "source": [
    "dataframe[\"len_descr\"] = len_descr\n",
    "dataframe.plot.scatter(x=\"len_descr\", y=\"price\")"
   ]
  },
  {
   "cell_type": "markdown",
   "metadata": {},
   "source": [
    "Если попробовать взять длину не по количеству слов в обработанных описаниях, а просто посимвольную длину описаний, в принципе ничего не меняется"
   ]
  },
  {
   "cell_type": "code",
   "execution_count": 18,
   "metadata": {},
   "outputs": [],
   "source": [
    "dataframe[\"len_descr_symbol\"] = [len(description) for description in dataframe[\"product_description\"]]"
   ]
  },
  {
   "cell_type": "code",
   "execution_count": 19,
   "metadata": {},
   "outputs": [
    {
     "data": {
      "text/plain": [
       "<matplotlib.axes._subplots.AxesSubplot at 0x12ff1ea20>"
      ]
     },
     "execution_count": 19,
     "metadata": {},
     "output_type": "execute_result"
    },
    {
     "data": {
      "image/png": "[encoded data removed]",
      "text/plain": [
       "<Figure size 432x288 with 1 Axes>"
      ]
     },
     "metadata": {
      "needs_background": "light"
     },
     "output_type": "display_data"
    }
   ],
   "source": [
    "dataframe.plot.scatter(x=\"len_descr_symbol\", y=\"price\")"
   ]
  },
  {
   "cell_type": "markdown",
   "metadata": {},
   "source": [
    "Цена и количество оценок товара\n",
    "\n",
    "\n",
    "Несколько товаров с очень большим количеством отзывов всё портят и ничего непонятно, но ощущение, как будто чем дешевле товар, тем больше отзывов о нем есть (то есть, о дорогих товарах меньше отзывов, о более дешевых, больше)"
   ]
  },
  {
   "cell_type": "code",
   "execution_count": 20,
   "metadata": {},
   "outputs": [
    {
     "data": {
      "text/plain": [
       "<matplotlib.axes._subplots.AxesSubplot at 0x12fff4a90>"
      ]
     },
     "execution_count": 20,
     "metadata": {},
     "output_type": "execute_result"
    },
    {
     "data": {
      "image/png": "[encoded data removed]",
      "text/plain": [
       "<Figure size 432x288 with 1 Axes>"
      ]
     },
     "metadata": {
      "needs_background": "light"
     },
     "output_type": "display_data"
    }
   ],
   "source": [
    "dataframe.plot.scatter(x=\"total_reviews\", y=\"price\")"
   ]
  },
  {
   "cell_type": "markdown",
   "metadata": {},
   "source": [
    "Цена и общая оценка товара\n",
    "\n",
    "\n",
    "В целом, немного заметно, что за исключением некоторых выбросов, более дорогие товары оценивают выше"
   ]
  },
  {
   "cell_type": "code",
   "execution_count": 21,
   "metadata": {
    "scrolled": true
   },
   "outputs": [
    {
     "data": {
      "text/plain": [
       "<matplotlib.axes._subplots.AxesSubplot at 0x1300ab668>"
      ]
     },
     "execution_count": 21,
     "metadata": {},
     "output_type": "execute_result"
    },
    {
     "data": {
      "image/png": "[encoded data removed]",
      "text/plain": [
       "<Figure size 432x288 with 1 Axes>"
      ]
     },
     "metadata": {
      "needs_background": "light"
     },
     "output_type": "display_data"
    }
   ],
   "source": [
    "dataframe.plot.scatter(x=\"rating\", y=\"price\")"
   ]
  },
  {
   "cell_type": "markdown",
   "metadata": {},
   "source": [
    "Можно заметить, что классы оценок тоже распределены неравномерно: в целом все оценки распределены в диапазоне от 3 до 5, оценки около 4 встречаются чаще всего"
   ]
  },
  {
   "cell_type": "code",
   "execution_count": 22,
   "metadata": {
    "scrolled": true
   },
   "outputs": [
    {
     "data": {
      "text/plain": [
       "<matplotlib.axes._subplots.AxesSubplot at 0x130194470>"
      ]
     },
     "execution_count": 22,
     "metadata": {},
     "output_type": "execute_result"
    },
    {
     "data": {
      "image/png": "[encoded data removed]",
      "text/plain": [
       "<Figure size 432x288 with 1 Axes>"
      ]
     },
     "metadata": {
      "needs_background": "light"
     },
     "output_type": "display_data"
    }
   ],
   "source": [
    "dataframe[\"rating\"].plot(kind=\"hist\")"
   ]
  },
  {
   "cell_type": "markdown",
   "metadata": {},
   "source": [
    "Более наглядное распределение оценок"
   ]
  },
  {
   "cell_type": "code",
   "execution_count": 23,
   "metadata": {},
   "outputs": [
    {
     "data": {
      "text/plain": [
       "<matplotlib.axes._subplots.AxesSubplot at 0x1302400f0>"
      ]
     },
     "execution_count": 23,
     "metadata": {},
     "output_type": "execute_result"
    },
    {
     "data": {
      "image/png": "[encoded data removed]",
      "text/plain": [
       "<Figure size 432x288 with 1 Axes>"
      ]
     },
     "metadata": {
      "needs_background": "light"
     },
     "output_type": "display_data"
    }
   ],
   "source": [
    "dataframe['rating'].value_counts().sort_index().plot.bar()"
   ]
  },
  {
   "cell_type": "markdown",
   "metadata": {},
   "source": [
    "В целом, судя по цифрам, корреляции небольшие, но как будто у более дорогих товаров более высокие оценки; у более дорогих товаров меньшее количество оценок/отзывов; описание более дорогих товаров длиннее"
   ]
  },
  {
   "cell_type": "code",
   "execution_count": 24,
   "metadata": {},
   "outputs": [
    {
     "data": {
      "text/html": [
       "<div>\n",
       "<style scoped>\n",
       "    .dataframe tbody tr th:only-of-type {\n",
       "        vertical-align: middle;\n",
       "    }\n",
       "\n",
       "    .dataframe tbody tr th {\n",
       "        vertical-align: top;\n",
       "    }\n",
       "\n",
       "    .dataframe thead th {\n",
       "        text-align: right;\n",
       "    }\n",
       "</style>\n",
       "<table border=\"1\" class=\"dataframe\">\n",
       "  <thead>\n",
       "    <tr style=\"text-align: right;\">\n",
       "      <th></th>\n",
       "      <th>price</th>\n",
       "      <th>rating</th>\n",
       "      <th>total_reviews</th>\n",
       "      <th>len_descr</th>\n",
       "      <th>len_descr_symbol</th>\n",
       "    </tr>\n",
       "  </thead>\n",
       "  <tbody>\n",
       "    <tr>\n",
       "      <td>price</td>\n",
       "      <td>1.000000</td>\n",
       "      <td>0.271582</td>\n",
       "      <td>-0.094865</td>\n",
       "      <td>0.135875</td>\n",
       "      <td>0.123566</td>\n",
       "    </tr>\n",
       "    <tr>\n",
       "      <td>rating</td>\n",
       "      <td>0.271582</td>\n",
       "      <td>1.000000</td>\n",
       "      <td>0.066541</td>\n",
       "      <td>0.046575</td>\n",
       "      <td>0.038633</td>\n",
       "    </tr>\n",
       "    <tr>\n",
       "      <td>total_reviews</td>\n",
       "      <td>-0.094865</td>\n",
       "      <td>0.066541</td>\n",
       "      <td>1.000000</td>\n",
       "      <td>0.093094</td>\n",
       "      <td>0.097005</td>\n",
       "    </tr>\n",
       "    <tr>\n",
       "      <td>len_descr</td>\n",
       "      <td>0.135875</td>\n",
       "      <td>0.046575</td>\n",
       "      <td>0.093094</td>\n",
       "      <td>1.000000</td>\n",
       "      <td>0.993859</td>\n",
       "    </tr>\n",
       "    <tr>\n",
       "      <td>len_descr_symbol</td>\n",
       "      <td>0.123566</td>\n",
       "      <td>0.038633</td>\n",
       "      <td>0.097005</td>\n",
       "      <td>0.993859</td>\n",
       "      <td>1.000000</td>\n",
       "    </tr>\n",
       "  </tbody>\n",
       "</table>\n",
       "</div>"
      ],
      "text/plain": [
       "                     price    rating  total_reviews  len_descr  \\\n",
       "price             1.000000  0.271582      -0.094865   0.135875   \n",
       "rating            0.271582  1.000000       0.066541   0.046575   \n",
       "total_reviews    -0.094865  0.066541       1.000000   0.093094   \n",
       "len_descr         0.135875  0.046575       0.093094   1.000000   \n",
       "len_descr_symbol  0.123566  0.038633       0.097005   0.993859   \n",
       "\n",
       "                  len_descr_symbol  \n",
       "price                     0.123566  \n",
       "rating                    0.038633  \n",
       "total_reviews             0.097005  \n",
       "len_descr                 0.993859  \n",
       "len_descr_symbol          1.000000  "
      ]
     },
     "execution_count": 24,
     "metadata": {},
     "output_type": "execute_result"
    }
   ],
   "source": [
    "dataframe.corr()"
   ]
  },
  {
   "cell_type": "code",
   "execution_count": 25,
   "metadata": {},
   "outputs": [
    {
     "data": {
      "text/html": [
       "<div>\n",
       "<style scoped>\n",
       "    .dataframe tbody tr th:only-of-type {\n",
       "        vertical-align: middle;\n",
       "    }\n",
       "\n",
       "    .dataframe tbody tr th {\n",
       "        vertical-align: top;\n",
       "    }\n",
       "\n",
       "    .dataframe thead th {\n",
       "        text-align: right;\n",
       "    }\n",
       "</style>\n",
       "<table border=\"1\" class=\"dataframe\">\n",
       "  <thead>\n",
       "    <tr style=\"text-align: right;\">\n",
       "      <th></th>\n",
       "      <th>price</th>\n",
       "      <th>rating</th>\n",
       "      <th>total_reviews</th>\n",
       "      <th>len_descr</th>\n",
       "      <th>len_descr_symbol</th>\n",
       "    </tr>\n",
       "  </thead>\n",
       "  <tbody>\n",
       "    <tr>\n",
       "      <td>count</td>\n",
       "      <td>982.000000</td>\n",
       "      <td>982.000000</td>\n",
       "      <td>982.000000</td>\n",
       "      <td>982.000000</td>\n",
       "      <td>982.000000</td>\n",
       "    </tr>\n",
       "    <tr>\n",
       "      <td>mean</td>\n",
       "      <td>1735.354379</td>\n",
       "      <td>3.934318</td>\n",
       "      <td>803.661914</td>\n",
       "      <td>42.294297</td>\n",
       "      <td>408.197556</td>\n",
       "    </tr>\n",
       "    <tr>\n",
       "      <td>std</td>\n",
       "      <td>1510.806956</td>\n",
       "      <td>0.422185</td>\n",
       "      <td>3082.243380</td>\n",
       "      <td>40.160229</td>\n",
       "      <td>383.152373</td>\n",
       "    </tr>\n",
       "    <tr>\n",
       "      <td>min</td>\n",
       "      <td>127.000000</td>\n",
       "      <td>1.000000</td>\n",
       "      <td>1.000000</td>\n",
       "      <td>3.000000</td>\n",
       "      <td>18.000000</td>\n",
       "    </tr>\n",
       "    <tr>\n",
       "      <td>25%</td>\n",
       "      <td>560.000000</td>\n",
       "      <td>3.800000</td>\n",
       "      <td>27.000000</td>\n",
       "      <td>20.000000</td>\n",
       "      <td>194.250000</td>\n",
       "    </tr>\n",
       "    <tr>\n",
       "      <td>50%</td>\n",
       "      <td>1339.500000</td>\n",
       "      <td>4.000000</td>\n",
       "      <td>127.000000</td>\n",
       "      <td>29.000000</td>\n",
       "      <td>278.500000</td>\n",
       "    </tr>\n",
       "    <tr>\n",
       "      <td>75%</td>\n",
       "      <td>2342.500000</td>\n",
       "      <td>4.200000</td>\n",
       "      <td>473.000000</td>\n",
       "      <td>53.000000</td>\n",
       "      <td>512.000000</td>\n",
       "    </tr>\n",
       "    <tr>\n",
       "      <td>max</td>\n",
       "      <td>7992.000000</td>\n",
       "      <td>5.000000</td>\n",
       "      <td>42193.000000</td>\n",
       "      <td>331.000000</td>\n",
       "      <td>3157.000000</td>\n",
       "    </tr>\n",
       "  </tbody>\n",
       "</table>\n",
       "</div>"
      ],
      "text/plain": [
       "             price      rating  total_reviews   len_descr  len_descr_symbol\n",
       "count   982.000000  982.000000     982.000000  982.000000        982.000000\n",
       "mean   1735.354379    3.934318     803.661914   42.294297        408.197556\n",
       "std    1510.806956    0.422185    3082.243380   40.160229        383.152373\n",
       "min     127.000000    1.000000       1.000000    3.000000         18.000000\n",
       "25%     560.000000    3.800000      27.000000   20.000000        194.250000\n",
       "50%    1339.500000    4.000000     127.000000   29.000000        278.500000\n",
       "75%    2342.500000    4.200000     473.000000   53.000000        512.000000\n",
       "max    7992.000000    5.000000   42193.000000  331.000000       3157.000000"
      ]
     },
     "execution_count": 25,
     "metadata": {},
     "output_type": "execute_result"
    }
   ],
   "source": [
    "dataframe.describe()"
   ]
  },
  {
   "cell_type": "markdown",
   "metadata": {},
   "source": [
    "График плотности цен для мужской и женской обуви"
   ]
  },
  {
   "cell_type": "code",
   "execution_count": 26,
   "metadata": {},
   "outputs": [],
   "source": [
    "men_shoes = dataframe[dataframe[\"Shoe Type\"] == \"Men\"]\n",
    "women_shoes = dataframe[dataframe[\"Shoe Type\"] == \"Women\"]"
   ]
  },
  {
   "cell_type": "code",
   "execution_count": 27,
   "metadata": {
    "scrolled": true
   },
   "outputs": [
    {
     "data": {
      "text/plain": [
       "<matplotlib.axes._subplots.AxesSubplot at 0x13039ba20>"
      ]
     },
     "execution_count": 27,
     "metadata": {},
     "output_type": "execute_result"
    },
    {
     "data": {
      "image/png": "[encoded data removed]",
      "text/plain": [
       "<Figure size 432x288 with 1 Axes>"
      ]
     },
     "metadata": {
      "needs_background": "light"
     },
     "output_type": "display_data"
    }
   ],
   "source": [
    "sns.kdeplot(men_shoes[\"price\"], label=\"Men\")\n",
    "sns.kdeplot(women_shoes[\"price\"], label=\"Women\")"
   ]
  },
  {
   "cell_type": "markdown",
   "metadata": {},
   "source": [
    "### Задание 1"
   ]
  },
  {
   "cell_type": "markdown",
   "metadata": {},
   "source": [
    "#### TF-IDF векторайзер"
   ]
  },
  {
   "cell_type": "code",
   "execution_count": 28,
   "metadata": {},
   "outputs": [],
   "source": [
    "X1 = vectorizer1.fit_transform(list(dataframe[\"lemmatized_description\"]))\n",
    "X1_train, X1_test, Y1_train, Y1_test = train_test_split(X1, list(dataframe['price']), test_size=0.70, random_state=42)"
   ]
  },
  {
   "cell_type": "markdown",
   "metadata": {},
   "source": [
    "#### CountVectorizer"
   ]
  },
  {
   "cell_type": "code",
   "execution_count": 29,
   "metadata": {},
   "outputs": [],
   "source": [
    "X2 = vectorizer2.fit_transform(list(dataframe[\"lemmatized_description\"]))\n",
    "X2_train, X2_test, Y2_train, Y2_test = train_test_split(X2, list(dataframe['price']), test_size=0.70, random_state=42)"
   ]
  },
  {
   "cell_type": "markdown",
   "metadata": {},
   "source": [
    "#### Модели\n",
    "\n",
    "Мы будем рассматривать такие модели как Линейная регрессия, Lasso, Ridge и ElasticNet."
   ]
  },
  {
   "cell_type": "markdown",
   "metadata": {},
   "source": [
    "#### Линейная регрессия"
   ]
  },
  {
   "cell_type": "markdown",
   "metadata": {},
   "source": [
    "Сделаем функцию, в которой будем проводить гридсёрч для линейной регрессии, для определения лучших параметров"
   ]
  },
  {
   "cell_type": "code",
   "execution_count": 66,
   "metadata": {},
   "outputs": [],
   "source": [
    "import warnings\n",
    "warnings.filterwarnings(\"ignore\")\n",
    "\n",
    "def linear_regression(X_train, Y_train):\n",
    "    model = LinearRegression()\n",
    "    param_grid = {'fit_intercept': [True, False],\n",
    "                  'normalize': [True, False],\n",
    "                  'copy_X': [True, False],\n",
    "                  'positive': [True, False]}\n",
    "    cv = RepeatedKFold(n_splits=5, n_repeats=3, random_state=1)\n",
    "    search = GridSearchCV(estimator=model, param_grid=param_grid, scoring='neg_mean_squared_error', n_jobs=-1, cv=cv)\n",
    "    result = search.fit(X_train, Y_train)\n",
    "    print(\"Best model score: \", result.best_score_)\n",
    "    print(\"Best model parameters: \", result.best_params_)"
   ]
  },
  {
   "cell_type": "markdown",
   "metadata": {},
   "source": [
    "Определение лучших параметров для линейной регрессии, данные векторизованы с помощью TF-IDF векторайзера"
   ]
  },
  {
   "cell_type": "code",
   "execution_count": 67,
   "metadata": {},
   "outputs": [
    {
     "name": "stdout",
     "output_type": "stream",
     "text": [
      "Best model score:  -3385325.5907579516\n",
      "Best model parameters:  {'copy_X': True, 'fit_intercept': False, 'normalize': True, 'positive': False}\n"
     ]
    }
   ],
   "source": [
    "linear_regression(X1_train, Y1_train)"
   ]
  },
  {
   "cell_type": "markdown",
   "metadata": {},
   "source": [
    "Определение лучших параметров для линейной регрессии, данные векторизованы с помощью CountVectorizer"
   ]
  },
  {
   "cell_type": "code",
   "execution_count": 68,
   "metadata": {},
   "outputs": [
    {
     "name": "stdout",
     "output_type": "stream",
     "text": [
      "Best model score:  -4203877.955791475\n",
      "Best model parameters:  {'copy_X': True, 'fit_intercept': False, 'normalize': True, 'positive': False}\n"
     ]
    }
   ],
   "source": [
    "linear_regression(X2_train, Y2_train)"
   ]
  },
  {
   "cell_type": "markdown",
   "metadata": {},
   "source": [
    "В целом, кажется, почему-то у моделей очень плохое качество. Может быть, слишком мало данных. Но при этом с данными, векторизованными TF-IDF векторайзером, результат чуть лучше"
   ]
  },
  {
   "cell_type": "markdown",
   "metadata": {},
   "source": [
    "Функция, которая возвращает разные оценки для полученного результата работы модели"
   ]
  },
  {
   "cell_type": "code",
   "execution_count": 70,
   "metadata": {},
   "outputs": [],
   "source": [
    "def score(Y_test, Y_pred):\n",
    "    print('MSE: ', mean_squared_error(Y_test, Y_pred, squared=False))  # 0 - best\n",
    "    print('MAE: ', mean_absolute_error(Y_test, Y_pred))  # 0 - best\n",
    "    print('EVS: ', explained_variance_score(Y_test, Y_pred))  # 1 - best\n",
    "    print('ME: ', max_error(Y_test, Y_pred))  # 0 - best\n",
    "    print('R2: ', r2_score(Y_test, Y_pred))  # 1 - best\n",
    "    print('MAPE: ', mean_absolute_percentage_error(Y_test, Y_pred))  # 0 - best"
   ]
  },
  {
   "cell_type": "code",
   "execution_count": 81,
   "metadata": {},
   "outputs": [
    {
     "name": "stdout",
     "output_type": "stream",
     "text": [
      "MSE:  1441.5686468771612\n",
      "MAE:  950.745630273873\n",
      "EVS:  0.0715686763245098\n",
      "ME:  6473.280352986577\n",
      "R2:  0.04571304033276091\n",
      "MAPE:  0.7281914400667786\n"
     ]
    }
   ],
   "source": [
    "lr_TFIDF = LinearRegression(copy_X=True, fit_intercept=False, normalize=True, positive=False).fit(X1_train, Y1_train)\n",
    "Y1_pred_lr = lr_TFIDF.predict(X1_test)\n",
    "score(Y1_test, Y1_pred_lr)"
   ]
  },
  {
   "cell_type": "code",
   "execution_count": 82,
   "metadata": {},
   "outputs": [
    {
     "name": "stdout",
     "output_type": "stream",
     "text": [
      "MSE:  2290.2999056114127\n",
      "MAE:  1481.7814007627967\n",
      "EVS:  -1.4077003598504803\n",
      "ME:  15261.775703627354\n",
      "R2:  -1.4087572972455558\n",
      "MAPE:  1.2756362592835722\n"
     ]
    }
   ],
   "source": [
    "lr_Count = LinearRegression(copy_X=True, fit_intercept=False, normalize=True, positive=False).fit(X2_train, Y2_train)\n",
    "Y2_pred_lr = lr_Count.predict(X2_test)\n",
    "score(Y2_test, Y2_pred_lr)"
   ]
  },
  {
   "cell_type": "markdown",
   "metadata": {},
   "source": [
    "#### Lasso"
   ]
  },
  {
   "cell_type": "markdown",
   "metadata": {},
   "source": [
    "Сделаем функцию, в которой будем проводить гридсёрч для Lasso, для определения лучших параметров. Если запускать гридсёрч по всем параметрам, это занимает нереальное количество времени, поэтому оставляем в param_grid только 'alpha'"
   ]
  },
  {
   "cell_type": "code",
   "execution_count": 76,
   "metadata": {},
   "outputs": [],
   "source": [
    "def lasso(X_train, Y_train):\n",
    "    model = Lasso()\n",
    "    param_grid = {#'fit_intercept': [True, False],\n",
    "                  #'normalize': [True, False],\n",
    "                  #'copy_X': [True, False],\n",
    "                  #'positive': [True, False],\n",
    "                  #'precompute': [True, False],\n",
    "                  #'selection': ['cyclic', 'random'],\n",
    "                  'alpha': [1e-7, 1e-6, 1e-5, 1e-4, 1e-3, 1e-2, 1e-1, 1, 10, 100]}\n",
    "    cv = RepeatedKFold(n_splits=5, n_repeats=3, random_state=1)\n",
    "    search = GridSearchCV(estimator=model, param_grid=param_grid, scoring='neg_mean_squared_error', n_jobs=-1, cv=cv)\n",
    "    result = search.fit(X_train, Y_train)\n",
    "    print(\"Best model score: \", result.best_score_)\n",
    "    print(\"Best model parameters: \", result.best_params_)"
   ]
  },
  {
   "cell_type": "code",
   "execution_count": 77,
   "metadata": {},
   "outputs": [
    {
     "name": "stdout",
     "output_type": "stream",
     "text": [
      "Best model score:  -1746174.9769850862\n",
      "Best model parameters:  {'alpha': 1}\n"
     ]
    }
   ],
   "source": [
    "lasso(X1_train, Y1_train)"
   ]
  },
  {
   "cell_type": "code",
   "execution_count": 78,
   "metadata": {},
   "outputs": [
    {
     "name": "stdout",
     "output_type": "stream",
     "text": [
      "Best model score:  -1939396.7355127952\n",
      "Best model parameters:  {'alpha': 10}\n"
     ]
    }
   ],
   "source": [
    "lasso(X2_train, Y2_train)"
   ]
  },
  {
   "cell_type": "markdown",
   "metadata": {},
   "source": [
    "Посмотрим на оценки моделей с лучшими параметрами. Стоит заметить, что, когда векторайзер - TF-IDF, оценки снова чуть лучше"
   ]
  },
  {
   "cell_type": "code",
   "execution_count": 83,
   "metadata": {},
   "outputs": [
    {
     "name": "stdout",
     "output_type": "stream",
     "text": [
      "MSE:  1246.6096247384237\n",
      "MAE:  852.0843531741875\n",
      "EVS:  0.28694237158626135\n",
      "ME:  5095.012099730344\n",
      "R2:  0.2863762681524862\n",
      "MAPE:  0.7563813025655686\n"
     ]
    }
   ],
   "source": [
    "lasso_TFIDF = Lasso(alpha=1).fit(X1_train, Y1_train)\n",
    "Y1_pred_lasso = lasso_TFIDF.predict(X1_test)\n",
    "score(Y1_test, Y1_pred_lasso)"
   ]
  },
  {
   "cell_type": "code",
   "execution_count": 84,
   "metadata": {},
   "outputs": [
    {
     "name": "stdout",
     "output_type": "stream",
     "text": [
      "MSE:  1279.9392546835786\n",
      "MAE:  892.9567930306107\n",
      "EVS:  0.2488956474352293\n",
      "ME:  7209.219327197361\n",
      "R2:  0.24770694865825993\n",
      "MAPE:  0.8830316327776705\n"
     ]
    }
   ],
   "source": [
    "lasso_Count = Lasso(alpha=10).fit(X2_train, Y2_train)\n",
    "Y2_pred_lasso = lasso_Count.predict(X2_test)\n",
    "score(Y2_test, Y2_pred_lasso)"
   ]
  },
  {
   "cell_type": "markdown",
   "metadata": {},
   "source": [
    "#### Ridge"
   ]
  },
  {
   "cell_type": "markdown",
   "metadata": {},
   "source": [
    "Гридсерч для Ridge"
   ]
  },
  {
   "cell_type": "code",
   "execution_count": 85,
   "metadata": {},
   "outputs": [],
   "source": [
    "def ridge(X_train, Y_train):\n",
    "    model = Ridge()\n",
    "    param_grid = {'fit_intercept': [True, False],\n",
    "                  'normalize': [True, False],\n",
    "                  'positive': [True, False],\n",
    "                  'solver': ['auto', 'svd', 'cholesky', 'lsqr', 'sparse_cg', 'sag', 'saga', 'lbfgs'],\n",
    "                  'alpha': [1e-7, 1e-6, 1e-5, 1e-4, 1e-3, 1e-2, 1e-1, 1, 10, 100]}\n",
    "    cv = RepeatedKFold(n_splits=5, n_repeats=3, random_state=1)\n",
    "    search = GridSearchCV(estimator=model, param_grid=param_grid, scoring='neg_mean_squared_error', n_jobs=-1, cv=cv)\n",
    "    result = search.fit(X_train, Y_train)\n",
    "    print(\"Best model score: \", result.best_score_)\n",
    "    print(\"Best model parameters: \", result.best_params_)"
   ]
  },
  {
   "cell_type": "code",
   "execution_count": 86,
   "metadata": {},
   "outputs": [
    {
     "name": "stdout",
     "output_type": "stream",
     "text": [
      "Best model score:  -1568951.1749998087\n",
      "Best model parameters:  {'alpha': 0.1, 'fit_intercept': True, 'normalize': False, 'positive': False, 'solver': 'auto'}\n"
     ]
    }
   ],
   "source": [
    "ridge(X1_train, Y1_train)"
   ]
  },
  {
   "cell_type": "code",
   "execution_count": 87,
   "metadata": {},
   "outputs": [
    {
     "name": "stdout",
     "output_type": "stream",
     "text": [
      "Best model score:  -1722424.2434996688\n",
      "Best model parameters:  {'alpha': 10, 'fit_intercept': True, 'normalize': False, 'positive': False, 'solver': 'sag'}\n"
     ]
    }
   ],
   "source": [
    "ridge(X2_train, Y2_train)"
   ]
  },
  {
   "cell_type": "markdown",
   "metadata": {},
   "source": [
    "Посмотрим на оценки моделей с лучшими параметрами. Стоит заметить, что, когда векторайзер - TF-IDF, оценки снова чуть лучше"
   ]
  },
  {
   "cell_type": "code",
   "execution_count": 88,
   "metadata": {},
   "outputs": [
    {
     "name": "stdout",
     "output_type": "stream",
     "text": [
      "MSE:  1160.4004694206994\n",
      "MAE:  803.1345772907325\n",
      "EVS:  0.3835488815371003\n",
      "ME:  5242.778258174489\n",
      "R2:  0.3816645803192542\n",
      "MAPE:  0.760864792734605\n"
     ]
    }
   ],
   "source": [
    "ridge_TFIDF = Ridge(alpha=0.1, fit_intercept=True, normalize=False, positive=False, solver='auto').fit(X1_train, Y1_train)\n",
    "Y1_pred_ridge = ridge_TFIDF.predict(X1_test)\n",
    "score(Y1_test, Y1_pred_ridge)"
   ]
  },
  {
   "cell_type": "code",
   "execution_count": 89,
   "metadata": {},
   "outputs": [
    {
     "name": "stdout",
     "output_type": "stream",
     "text": [
      "MSE:  1207.202402492219\n",
      "MAE:  841.7086311290594\n",
      "EVS:  0.33231525162275855\n",
      "ME:  5165.539999741811\n",
      "R2:  0.3307806109769301\n",
      "MAPE:  0.8589864320330851\n"
     ]
    }
   ],
   "source": [
    "ridge_Count = Ridge(alpha=10, fit_intercept=True, normalize=False, positive=False, solver='sag').fit(X2_train, Y2_train)\n",
    "Y2_pred_ridge = ridge_Count.predict(X2_test)\n",
    "score(Y2_test, Y2_pred_ridge)"
   ]
  },
  {
   "cell_type": "markdown",
   "metadata": {},
   "source": [
    "Пока судя по оценкам, Ridge справляется лучше всех. Плохо, но лучше, чем линейная регрессия и Lasso"
   ]
  },
  {
   "cell_type": "markdown",
   "metadata": {},
   "source": [
    "#### ElasticNet"
   ]
  },
  {
   "cell_type": "markdown",
   "metadata": {},
   "source": [
    "Гридсерч для ElasticNet. Так же, как и для Lasso, оставлять все параметры нет смысла, плюс гридсёрч будет работать очень долго, поэтому оставляем только 'alpha' и 'l1_ratio'."
   ]
  },
  {
   "cell_type": "code",
   "execution_count": 90,
   "metadata": {},
   "outputs": [],
   "source": [
    "def elastic(X_train, Y_train):\n",
    "    model = ElasticNet()\n",
    "    param_grid = {'l1_ratio': [0.0, 0.1, 0.2, 0.3, 0.4, 0.5, 0.6, 0.7, 0.8, 0.9, 1.0],\n",
    "                  'alpha': [0.00001, 0.0001, 0.001, 0.01, 0.1, 1, 10, 100, 1000, 10000]}\n",
    "    cv = RepeatedKFold(n_splits=5, n_repeats=3, random_state=1)\n",
    "    search = GridSearchCV(estimator=model, param_grid=param_grid, scoring='neg_mean_squared_error', n_jobs=-1, cv=cv)\n",
    "    result = search.fit(X_train, Y_train)\n",
    "    print(\"Best model score: \", result.best_score_)\n",
    "    print(\"Best model parameters: \", result.best_params_)"
   ]
  },
  {
   "cell_type": "code",
   "execution_count": 91,
   "metadata": {},
   "outputs": [
    {
     "name": "stdout",
     "output_type": "stream",
     "text": [
      "Best model score:  -1549920.4252268788\n",
      "Best model parameters:  {'alpha': 0.01, 'l1_ratio': 0.9}\n"
     ]
    }
   ],
   "source": [
    "elastic(X1_train, Y1_train)"
   ]
  },
  {
   "cell_type": "code",
   "execution_count": 92,
   "metadata": {},
   "outputs": [
    {
     "name": "stdout",
     "output_type": "stream",
     "text": [
      "Best model score:  -1713172.5162423444\n",
      "Best model parameters:  {'alpha': 1, 'l1_ratio': 0.9}\n"
     ]
    }
   ],
   "source": [
    "elastic(X2_train, Y2_train)"
   ]
  },
  {
   "cell_type": "markdown",
   "metadata": {},
   "source": [
    "Посмотрим на оценки моделей с лучшими параметрами. Стоит заметить, что, когда векторайзер - TF-IDF, оценки, как и в предыдущих моделях, лучше."
   ]
  },
  {
   "cell_type": "code",
   "execution_count": 94,
   "metadata": {},
   "outputs": [
    {
     "name": "stdout",
     "output_type": "stream",
     "text": [
      "MSE:  1138.4474077455966\n",
      "MAE:  796.3919843178544\n",
      "EVS:  0.4069279288249358\n",
      "ME:  5282.0755430981\n",
      "R2:  0.4048392559363443\n",
      "MAPE:  0.775891077972288\n"
     ]
    }
   ],
   "source": [
    "elastic_TFIDF = ElasticNet(alpha=0.01, l1_ratio=0.9).fit(X1_train, Y1_train)\n",
    "Y1_pred_elastic = elastic_TFIDF.predict(X1_test)\n",
    "score(Y1_test, Y1_pred_elastic)"
   ]
  },
  {
   "cell_type": "code",
   "execution_count": 95,
   "metadata": {},
   "outputs": [
    {
     "name": "stdout",
     "output_type": "stream",
     "text": [
      "MSE:  1172.678579131037\n",
      "MAE:  840.6133689263986\n",
      "EVS:  0.37138062553957774\n",
      "ME:  5167.909904524666\n",
      "R2:  0.3685102332490193\n",
      "MAPE:  0.8969755812007237\n"
     ]
    }
   ],
   "source": [
    "elastic_Count = ElasticNet(alpha=1, l1_ratio=0.9).fit(X2_train, Y2_train)\n",
    "Y2_pred_elastic = elastic_Count.predict(X2_test)\n",
    "score(Y2_test, Y2_pred_elastic)"
   ]
  },
  {
   "cell_type": "markdown",
   "metadata": {},
   "source": [
    "#### Итог"
   ]
  },
  {
   "cell_type": "markdown",
   "metadata": {},
   "source": [
    "Если смотреть, например, на MSE, MAE и R2, получится что с небольшим отрывом но побеждает модель ElasticNet, если данные векторизованы с помощью TF-IDF векторайзера.\n",
    "Попробуем изобразить все получившиеся модели (c TF-IDF векторайзером) в виде боксплотов для наглядности"
   ]
  },
  {
   "cell_type": "code",
   "execution_count": 97,
   "metadata": {},
   "outputs": [],
   "source": [
    "df_price = pd.DataFrame()\n",
    "df_price[\"price\"] = Y1_test\n",
    "df_price[\"price_pred_lr\"] = Y1_pred_lr\n",
    "df_price[\"price_pred_lasso\"] = Y1_pred_lasso\n",
    "df_price[\"price_pred_ridge\"] = Y1_pred_ridge\n",
    "df_price[\"price_pred_elastic\"] = Y1_pred_elastic"
   ]
  },
  {
   "cell_type": "code",
   "execution_count": 106,
   "metadata": {},
   "outputs": [
    {
     "data": {
      "image/png": "[encoded data removed]",
      "text/plain": [
       "<Figure size 432x288 with 1 Axes>"
      ]
     },
     "metadata": {
      "needs_background": "light"
     },
     "output_type": "display_data"
    }
   ],
   "source": [
    "plt.boxplot([df_price[\"price\"], df_price[\"price_pred_lr\"], df_price[\"price_pred_lasso\"], df_price[\"price_pred_ridge\"], df_price[\"price_pred_elastic\"]])\n",
    "plt.show()"
   ]
  },
  {
   "cell_type": "markdown",
   "metadata": {},
   "source": [
    "По графику трудно сказать, у какой модели предсказать цену получилось лучше всего. Всё-таки объем данных маленький. Хотя возможно, ElasticNet действительно приближена к реальным данным больше всего. Почему так могло выйти, к сожалению я не знаю. Раньше я никогда не сталкивалась с этой моделью.\n",
    "\n",
    "Зато по графику хорошо заметны две проблемы, существующие у всех моделей. Во-первых, все они предсказывают отрицательные цены. В дальнейшем надо каким-то образом создать ограничение на возможность предсказания отрицательных цен. А кроме того, все модели очень плохо работают с существующими выбросами. Это тоже хорошо отображает график. Как быть с этим непонятно. Если убирать их, данных станет совсем мало и это только ухудшит ситуацию."
   ]
  },
  {
   "cell_type": "code",
   "execution_count": 107,
   "metadata": {
    "scrolled": true
   },
   "outputs": [
    {
     "data": {
      "text/html": [
       "<div>\n",
       "<style scoped>\n",
       "    .dataframe tbody tr th:only-of-type {\n",
       "        vertical-align: middle;\n",
       "    }\n",
       "\n",
       "    .dataframe tbody tr th {\n",
       "        vertical-align: top;\n",
       "    }\n",
       "\n",
       "    .dataframe thead th {\n",
       "        text-align: right;\n",
       "    }\n",
       "</style>\n",
       "<table border=\"1\" class=\"dataframe\">\n",
       "  <thead>\n",
       "    <tr style=\"text-align: right;\">\n",
       "      <th></th>\n",
       "      <th>price</th>\n",
       "      <th>price_pred_lr</th>\n",
       "      <th>price_pred_lasso</th>\n",
       "      <th>price_pred_ridge</th>\n",
       "      <th>price_pred_elastic</th>\n",
       "    </tr>\n",
       "  </thead>\n",
       "  <tbody>\n",
       "    <tr>\n",
       "      <td>count</td>\n",
       "      <td>688.000000</td>\n",
       "      <td>688.000000</td>\n",
       "      <td>688.000000</td>\n",
       "      <td>688.000000</td>\n",
       "      <td>688.000000</td>\n",
       "    </tr>\n",
       "    <tr>\n",
       "      <td>mean</td>\n",
       "      <td>1715.511628</td>\n",
       "      <td>1478.224901</td>\n",
       "      <td>1680.400585</td>\n",
       "      <td>1779.569277</td>\n",
       "      <td>1782.953722</td>\n",
       "    </tr>\n",
       "    <tr>\n",
       "      <td>std</td>\n",
       "      <td>1476.765997</td>\n",
       "      <td>1159.711152</td>\n",
       "      <td>1030.103317</td>\n",
       "      <td>961.423369</td>\n",
       "      <td>883.258007</td>\n",
       "    </tr>\n",
       "    <tr>\n",
       "      <td>min</td>\n",
       "      <td>129.000000</td>\n",
       "      <td>-813.122354</td>\n",
       "      <td>-696.012100</td>\n",
       "      <td>-219.863243</td>\n",
       "      <td>-75.305251</td>\n",
       "    </tr>\n",
       "    <tr>\n",
       "      <td>25%</td>\n",
       "      <td>559.000000</td>\n",
       "      <td>558.799995</td>\n",
       "      <td>835.045820</td>\n",
       "      <td>905.800241</td>\n",
       "      <td>964.403439</td>\n",
       "    </tr>\n",
       "    <tr>\n",
       "      <td>50%</td>\n",
       "      <td>1299.000000</td>\n",
       "      <td>1218.393178</td>\n",
       "      <td>1421.392731</td>\n",
       "      <td>1761.170890</td>\n",
       "      <td>1765.975224</td>\n",
       "    </tr>\n",
       "    <tr>\n",
       "      <td>75%</td>\n",
       "      <td>2315.500000</td>\n",
       "      <td>2190.966072</td>\n",
       "      <td>2341.450174</td>\n",
       "      <td>2515.022799</td>\n",
       "      <td>2485.178198</td>\n",
       "    </tr>\n",
       "    <tr>\n",
       "      <td>max</td>\n",
       "      <td>7702.000000</td>\n",
       "      <td>6918.937244</td>\n",
       "      <td>5589.009929</td>\n",
       "      <td>5214.251045</td>\n",
       "      <td>4930.330533</td>\n",
       "    </tr>\n",
       "  </tbody>\n",
       "</table>\n",
       "</div>"
      ],
      "text/plain": [
       "             price  price_pred_lr  price_pred_lasso  price_pred_ridge  \\\n",
       "count   688.000000     688.000000        688.000000        688.000000   \n",
       "mean   1715.511628    1478.224901       1680.400585       1779.569277   \n",
       "std    1476.765997    1159.711152       1030.103317        961.423369   \n",
       "min     129.000000    -813.122354       -696.012100       -219.863243   \n",
       "25%     559.000000     558.799995        835.045820        905.800241   \n",
       "50%    1299.000000    1218.393178       1421.392731       1761.170890   \n",
       "75%    2315.500000    2190.966072       2341.450174       2515.022799   \n",
       "max    7702.000000    6918.937244       5589.009929       5214.251045   \n",
       "\n",
       "       price_pred_elastic  \n",
       "count          688.000000  \n",
       "mean          1782.953722  \n",
       "std            883.258007  \n",
       "min            -75.305251  \n",
       "25%            964.403439  \n",
       "50%           1765.975224  \n",
       "75%           2485.178198  \n",
       "max           4930.330533  "
      ]
     },
     "execution_count": 107,
     "metadata": {},
     "output_type": "execute_result"
    }
   ],
   "source": [
    "df_price.describe()"
   ]
  },
  {
   "cell_type": "markdown",
   "metadata": {},
   "source": [
    "Если смотреть на такие параметры как среднее, максимальное и минимальное значения, то к среднему ближе всего оказалась Lasso, к максимальному - линейная регрессия, к минимальному - ElasticNet"
   ]
  },
  {
   "cell_type": "code",
   "execution_count": 109,
   "metadata": {},
   "outputs": [
    {
     "data": {
      "text/plain": [
       "<matplotlib.axes._subplots.AxesSubplot at 0x13255e320>"
      ]
     },
     "execution_count": 109,
     "metadata": {},
     "output_type": "execute_result"
    },
    {
     "data": {
      "image/png": "[encoded data removed]",
      "text/plain": [
       "<Figure size 432x288 with 1 Axes>"
      ]
     },
     "metadata": {
      "needs_background": "light"
     },
     "output_type": "display_data"
    }
   ],
   "source": [
    "sns.kdeplot(df_price[\"price\"], label=\"Real price\")\n",
    "sns.kdeplot(df_price[\"price_pred_lr\"], label=\"Linear Regression price\")\n",
    "sns.kdeplot(df_price[\"price_pred_lasso\"], label=\"Lasso price\")\n",
    "sns.kdeplot(df_price[\"price_pred_ridge\"], label=\"Ridge price\")\n",
    "sns.kdeplot(df_price[\"price_pred_elastic\"], label=\"ElasticNet price\")"
   ]
  },
  {
   "cell_type": "markdown",
   "metadata": {},
   "source": [
    "Если посмотреть на график плотности, самым близким к графику реальных цен получится график линейной регрессии."
   ]
  },
  {
   "cell_type": "markdown",
   "metadata": {},
   "source": [
    "##### Ещё раз итог\n",
    "Подводя итог, мне трудно понять, по каким параметрам стоит определять, какая модель предсказала цену лучше всего.\n",
    "\n",
    "Однако очевидно, что у моделей есть такие проблемы как предсказывание отрицательных цен, и трудности с предсказыванием больших выбросов."
   ]
  },
  {
   "cell_type": "markdown",
   "metadata": {},
   "source": [
    "### Задание 2"
   ]
  },
  {
   "cell_type": "markdown",
   "metadata": {},
   "source": [
    "Возьмем из таблицы только колонки с отзывами и их оценками и приведем их в подходящий формат"
   ]
  },
  {
   "cell_type": "code",
   "execution_count": 112,
   "metadata": {},
   "outputs": [],
   "source": [
    "list_reviews = [cell.split('||') for cell in dataframe[\"reviews\"]]\n",
    "reviews = sum(list_reviews, [])"
   ]
  },
  {
   "cell_type": "code",
   "execution_count": 124,
   "metadata": {},
   "outputs": [],
   "source": [
    "list_ratings = [cell.split('||') for cell in dataframe[\"reviews_rating\"]]\n",
    "ratings = sum(list_ratings, [])\n",
    "ratings = [rating.split(' ')[1] \n",
    "           if rating[0] == ' ' \n",
    "           else rating.split(' ')[0] \n",
    "           for rating in ratings]\n",
    "ratings = [float(rating.split('.')[0]) + int(rating.split('.')[1]) / 10 for rating in ratings]"
   ]
  },
  {
   "cell_type": "code",
   "execution_count": 125,
   "metadata": {},
   "outputs": [],
   "source": [
    "df_task2 = pd.DataFrame({\"reviews\": reviews,\n",
    "                         \"ratings\": ratings})"
   ]
  },
  {
   "cell_type": "markdown",
   "metadata": {},
   "source": [
    "Приведем к нижнему регистру, лемматизируем отзывы, уберем в них пунктуацию"
   ]
  },
  {
   "cell_type": "code",
   "execution_count": 127,
   "metadata": {},
   "outputs": [],
   "source": [
    "lemmatized_reviews = []\n",
    "for index, review in enumerate(df_task2[\"reviews\"]):\n",
    "    for item in punctuation:  # убираем пунктуацию\n",
    "        without_punct = review.replace(item, '')\n",
    "        review = without_punct\n",
    "    tokenized_review = nltk.word_tokenize(review.lower())  # токенизируем и приводим к нижнему регистру\n",
    "    lemmatized_review = [lemmatizer.lemmatize(token) for token in tokenized_review]  # лемматизируем\n",
    "    without_stopwords = []\n",
    "    for word in lemmatized_review:  # убираем стоп-слова\n",
    "        if word not in stopwords.words('english'):\n",
    "            without_stopwords.append(word)\n",
    "    lemmatized_reviews.append(' '.join(without_stopwords))\n",
    "\n",
    "df_task2[\"reviews\"]= lemmatized_reviews\n",
    "\n",
    "for index, review in enumerate(df_task2[\"reviews\"]):  # чистим от пустых отзывов\n",
    "    if review == '':\n",
    "        df_task2 = df_task2.drop(index)\n",
    "df_task2 = df_task2.reset_index(drop = True)"
   ]
  },
  {
   "cell_type": "code",
   "execution_count": 128,
   "metadata": {
    "scrolled": true
   },
   "outputs": [
    {
     "data": {
      "text/html": [
       "<div>\n",
       "<style scoped>\n",
       "    .dataframe tbody tr th:only-of-type {\n",
       "        vertical-align: middle;\n",
       "    }\n",
       "\n",
       "    .dataframe tbody tr th {\n",
       "        vertical-align: top;\n",
       "    }\n",
       "\n",
       "    .dataframe thead th {\n",
       "        text-align: right;\n",
       "    }\n",
       "</style>\n",
       "<table border=\"1\" class=\"dataframe\">\n",
       "  <thead>\n",
       "    <tr style=\"text-align: right;\">\n",
       "      <th></th>\n",
       "      <th>reviews</th>\n",
       "      <th>ratings</th>\n",
       "    </tr>\n",
       "  </thead>\n",
       "  <tbody>\n",
       "    <tr>\n",
       "      <td>0</td>\n",
       "      <td>happy product</td>\n",
       "      <td>1.0</td>\n",
       "    </tr>\n",
       "    <tr>\n",
       "      <td>1</td>\n",
       "      <td>expected</td>\n",
       "      <td>1.0</td>\n",
       "    </tr>\n",
       "    <tr>\n",
       "      <td>2</td>\n",
       "      <td>average product</td>\n",
       "      <td>3.0</td>\n",
       "    </tr>\n",
       "    <tr>\n",
       "      <td>3</td>\n",
       "      <td>pic beautiful</td>\n",
       "      <td>3.0</td>\n",
       "    </tr>\n",
       "    <tr>\n",
       "      <td>4</td>\n",
       "      <td>got damage product quality average 300₹</td>\n",
       "      <td>3.0</td>\n",
       "    </tr>\n",
       "    <tr>\n",
       "      <td>...</td>\n",
       "      <td>...</td>\n",
       "      <td>...</td>\n",
       "    </tr>\n",
       "    <tr>\n",
       "      <td>7954</td>\n",
       "      <td>go</td>\n",
       "      <td>5.0</td>\n",
       "    </tr>\n",
       "    <tr>\n",
       "      <td>7955</td>\n",
       "      <td>excellent product</td>\n",
       "      <td>5.0</td>\n",
       "    </tr>\n",
       "    <tr>\n",
       "      <td>7956</td>\n",
       "      <td>nice shoe</td>\n",
       "      <td>5.0</td>\n",
       "    </tr>\n",
       "    <tr>\n",
       "      <td>7957</td>\n",
       "      <td>nice</td>\n",
       "      <td>5.0</td>\n",
       "    </tr>\n",
       "    <tr>\n",
       "      <td>7958</td>\n",
       "      <td>asics shoe best</td>\n",
       "      <td>5.0</td>\n",
       "    </tr>\n",
       "  </tbody>\n",
       "</table>\n",
       "<p>7959 rows × 2 columns</p>\n",
       "</div>"
      ],
      "text/plain": [
       "                                      reviews  ratings\n",
       "0                               happy product      1.0\n",
       "1                                    expected      1.0\n",
       "2                             average product      3.0\n",
       "3                               pic beautiful      3.0\n",
       "4     got damage product quality average 300₹      3.0\n",
       "...                                       ...      ...\n",
       "7954                                       go      5.0\n",
       "7955                        excellent product      5.0\n",
       "7956                                nice shoe      5.0\n",
       "7957                                     nice      5.0\n",
       "7958                          asics shoe best      5.0\n",
       "\n",
       "[7959 rows x 2 columns]"
      ]
     },
     "execution_count": 128,
     "metadata": {},
     "output_type": "execute_result"
    }
   ],
   "source": [
    "df_task2"
   ]
  },
  {
   "cell_type": "markdown",
   "metadata": {},
   "source": [
    "Будет не очень информативно, но всё же"
   ]
  },
  {
   "cell_type": "code",
   "execution_count": 129,
   "metadata": {
    "scrolled": true
   },
   "outputs": [
    {
     "data": {
      "text/html": [
       "<div>\n",
       "<style scoped>\n",
       "    .dataframe tbody tr th:only-of-type {\n",
       "        vertical-align: middle;\n",
       "    }\n",
       "\n",
       "    .dataframe tbody tr th {\n",
       "        vertical-align: top;\n",
       "    }\n",
       "\n",
       "    .dataframe thead th {\n",
       "        text-align: right;\n",
       "    }\n",
       "</style>\n",
       "<table border=\"1\" class=\"dataframe\">\n",
       "  <thead>\n",
       "    <tr style=\"text-align: right;\">\n",
       "      <th></th>\n",
       "      <th>ratings</th>\n",
       "    </tr>\n",
       "  </thead>\n",
       "  <tbody>\n",
       "    <tr>\n",
       "      <td>count</td>\n",
       "      <td>7959.000000</td>\n",
       "    </tr>\n",
       "    <tr>\n",
       "      <td>mean</td>\n",
       "      <td>3.705868</td>\n",
       "    </tr>\n",
       "    <tr>\n",
       "      <td>std</td>\n",
       "      <td>1.548919</td>\n",
       "    </tr>\n",
       "    <tr>\n",
       "      <td>min</td>\n",
       "      <td>1.000000</td>\n",
       "    </tr>\n",
       "    <tr>\n",
       "      <td>25%</td>\n",
       "      <td>3.000000</td>\n",
       "    </tr>\n",
       "    <tr>\n",
       "      <td>50%</td>\n",
       "      <td>4.000000</td>\n",
       "    </tr>\n",
       "    <tr>\n",
       "      <td>75%</td>\n",
       "      <td>5.000000</td>\n",
       "    </tr>\n",
       "    <tr>\n",
       "      <td>max</td>\n",
       "      <td>5.000000</td>\n",
       "    </tr>\n",
       "  </tbody>\n",
       "</table>\n",
       "</div>"
      ],
      "text/plain": [
       "           ratings\n",
       "count  7959.000000\n",
       "mean      3.705868\n",
       "std       1.548919\n",
       "min       1.000000\n",
       "25%       3.000000\n",
       "50%       4.000000\n",
       "75%       5.000000\n",
       "max       5.000000"
      ]
     },
     "execution_count": 129,
     "metadata": {},
     "output_type": "execute_result"
    }
   ],
   "source": [
    "df_task2.describe()"
   ]
  },
  {
   "cell_type": "markdown",
   "metadata": {},
   "source": [
    "Количество оценок распределено неравномерно"
   ]
  },
  {
   "cell_type": "code",
   "execution_count": 130,
   "metadata": {},
   "outputs": [
    {
     "data": {
      "text/plain": [
       "<matplotlib.axes._subplots.AxesSubplot at 0x132c54f60>"
      ]
     },
     "execution_count": 130,
     "metadata": {},
     "output_type": "execute_result"
    },
    {
     "data": {
      "image/png": "[encoded data removed]",
      "text/plain": [
       "<Figure size 432x288 with 1 Axes>"
      ]
     },
     "metadata": {
      "needs_background": "light"
     },
     "output_type": "display_data"
    }
   ],
   "source": [
    "df_task2[\"ratings\"].plot(kind=\"hist\")"
   ]
  },
  {
   "cell_type": "code",
   "execution_count": 131,
   "metadata": {},
   "outputs": [
    {
     "data": {
      "text/plain": [
       "<matplotlib.axes._subplots.AxesSubplot at 0x127e43cc0>"
      ]
     },
     "execution_count": 131,
     "metadata": {},
     "output_type": "execute_result"
    },
    {
     "data": {
      "image/png": "[encoded data removed]",
      "text/plain": [
       "<Figure size 432x288 with 1 Axes>"
      ]
     },
     "metadata": {
      "needs_background": "light"
     },
     "output_type": "display_data"
    }
   ],
   "source": [
    "df_task2[\"ratings\"].plot(kind=\"box\")"
   ]
  },
  {
   "cell_type": "markdown",
   "metadata": {},
   "source": [
    "#### TF-IDF векторайзер"
   ]
  },
  {
   "cell_type": "code",
   "execution_count": 136,
   "metadata": {},
   "outputs": [],
   "source": [
    "X3 = vectorizer1.fit_transform(list(df_task2[\"reviews\"]))\n",
    "X3_train, X3_test, Y3_train, Y3_test = train_test_split(X3, list(df_task2[\"ratings\"]), test_size=0.70, random_state=42)"
   ]
  },
  {
   "cell_type": "markdown",
   "metadata": {},
   "source": [
    "#### CountVectorizer"
   ]
  },
  {
   "cell_type": "code",
   "execution_count": 137,
   "metadata": {},
   "outputs": [],
   "source": [
    "X4 = vectorizer2.fit_transform(list(df_task2[\"reviews\"]))\n",
    "X4_train, X4_test, Y4_train, Y4_test = train_test_split(X4, list(df_task2[\"ratings\"]), test_size=0.70, random_state=42)"
   ]
  },
  {
   "cell_type": "markdown",
   "metadata": {},
   "source": [
    "#### Модели\n",
    "\n",
    "Мы будем рассматривать такие модели как Логистическая регрессия, KNN, Random Forest и Ridge Classifier"
   ]
  },
  {
   "cell_type": "markdown",
   "metadata": {},
   "source": [
    "#### LogisticRegression"
   ]
  },
  {
   "cell_type": "code",
   "execution_count": 142,
   "metadata": {},
   "outputs": [],
   "source": [
    "def logistic_regression(X_train, Y_train):\n",
    "    model = LogisticRegression()\n",
    "    param_grid = {'penalty': ['l1', 'l2', 'elasticnet', 'none'],\n",
    "                  'solver': ['newton-cg', 'lbfgs', 'liblinear', 'sag', 'saga'],\n",
    "                  #'multi_class': ['auto', 'ovr', 'multinomial'],\n",
    "                  #'l1_ratio': [0.0, 0.1, 0.2, 0.3, 0.4, 0.5, 0.6, 0.7, 0.8, 0.9, 1.0],\n",
    "                  'C': [1e-2, 1e-1, 1, 10, 100]}\n",
    "    cv = RepeatedKFold(n_splits=5, n_repeats=3, random_state=1)\n",
    "    search = GridSearchCV(estimator=model, param_grid=param_grid, scoring='f1_macro', n_jobs=-1, cv=cv)\n",
    "    result = search.fit(X_train, Y_train)\n",
    "    print(\"Best model score: \", result.best_score_)\n",
    "    print(\"Best model parameters: \", result.best_params_)"
   ]
  },
  {
   "cell_type": "code",
   "execution_count": 143,
   "metadata": {},
   "outputs": [
    {
     "name": "stdout",
     "output_type": "stream",
     "text": [
      "Best model score:  0.36281866039926813\n",
      "Best model parameters:  {'C': 10, 'penalty': 'l2', 'solver': 'liblinear'}\n"
     ]
    }
   ],
   "source": [
    "logistic_regression(X3_train, Y3_train)"
   ]
  },
  {
   "cell_type": "code",
   "execution_count": 144,
   "metadata": {},
   "outputs": [
    {
     "name": "stdout",
     "output_type": "stream",
     "text": [
      "Best model score:  0.3667946078135633\n",
      "Best model parameters:  {'C': 10, 'penalty': 'l2', 'solver': 'saga'}\n"
     ]
    }
   ],
   "source": [
    "logistic_regression(X4_train, Y4_train)"
   ]
  },
  {
   "cell_type": "markdown",
   "metadata": {},
   "source": [
    "Функция, выдающая оценку модели по разным параметрам"
   ]
  },
  {
   "cell_type": "code",
   "execution_count": 145,
   "metadata": {},
   "outputs": [],
   "source": [
    "def score2(Y_test, Y_pred):\n",
    "    print('Accuracy: ', accuracy_score(Y_pred, Y_test))\n",
    "    print('Micro F1: ', f1_score(Y_pred, Y_test, average = 'micro'))\n",
    "    print('Micro Precision: ', precision_score(Y_pred, Y_test, average = 'micro'))\n",
    "    print('Micro Recall: ', recall_score(Y_pred, Y_test, average = 'micro'))\n",
    "    print('Macro F1: ', f1_score(Y_pred, Y_test, average = 'macro'))\n",
    "    print('Macro Precision: ', precision_score(Y_pred, Y_test, average = 'macro'))\n",
    "    print('Macro Recall: ', recall_score(Y_pred, Y_test, average = 'macro'))"
   ]
  },
  {
   "cell_type": "code",
   "execution_count": 146,
   "metadata": {},
   "outputs": [
    {
     "name": "stdout",
     "output_type": "stream",
     "text": [
      "Accuracy:  0.58183776022972\n",
      "Micro F1:  0.58183776022972\n",
      "Micro Precision:  0.58183776022972\n",
      "Micro Recall:  0.58183776022972\n",
      "Macro F1:  0.36115230949750254\n",
      "Macro Precision:  0.4185096714569651\n",
      "Macro Recall:  0.3642075697958681\n"
     ]
    }
   ],
   "source": [
    "LogR_TFIDF = LogisticRegression(C=10, penalty='l2', solver='liblinear').fit(X3_train, Y3_train)\n",
    "LogR_TFIDF_pred = LogR_TFIDF.predict(X3_test)\n",
    "score2(LogR_TFIDF_pred, Y3_test)"
   ]
  },
  {
   "cell_type": "code",
   "execution_count": 147,
   "metadata": {},
   "outputs": [
    {
     "name": "stdout",
     "output_type": "stream",
     "text": [
      "Accuracy:  0.573402727925341\n",
      "Micro F1:  0.573402727925341\n",
      "Micro Precision:  0.573402727925341\n",
      "Micro Recall:  0.573402727925341\n",
      "Macro F1:  0.3684978222522618\n",
      "Macro Precision:  0.4151088890702349\n",
      "Macro Recall:  0.36665589925473163\n"
     ]
    }
   ],
   "source": [
    "LogR_Count = LogisticRegression(C=10, penalty='l2', solver='saga').fit(X4_train, Y4_train)\n",
    "LogR_Count_pred = LogR_Count.predict(X4_test)\n",
    "score2(LogR_Count_pred, Y4_test)"
   ]
  },
  {
   "cell_type": "markdown",
   "metadata": {},
   "source": [
    "Тут как будто разница между векторайзерами меньше заметна (в отличие от моделей, которые предсказывали цену в первом задании)"
   ]
  },
  {
   "cell_type": "markdown",
   "metadata": {},
   "source": [
    "#### KNN"
   ]
  },
  {
   "cell_type": "code",
   "execution_count": 149,
   "metadata": {},
   "outputs": [],
   "source": [
    "def knn(X_train, Y_train):\n",
    "    model = KNeighborsClassifier()\n",
    "    param_grid = {'n_neighbors': [1, 2, 3, 4, 5, 6, 7, 8, 9, 10],\n",
    "                  'weights': ['uniform', 'distance'],\n",
    "                  #'algorithm': ['auto', 'ball_tree', 'kd_tree', 'brute'] - auto сам выбирает более подходящий алгоритм\n",
    "                  'p': [1,2],\n",
    "                  'metric': ['euclidean', 'manhattan', 'chebyshev', 'minkowski', 'wminkowski', 'seuclidean', 'mahalanobis']}\n",
    "    cv = RepeatedKFold(n_splits=5, n_repeats=3, random_state=1)\n",
    "    search = GridSearchCV(estimator=model, param_grid=param_grid, scoring='f1_macro', n_jobs=-1, cv=cv)\n",
    "    result = search.fit(X_train, Y_train)\n",
    "    print(\"Best model score: \", result.best_score_)\n",
    "    print(\"Best model parameters: \", result.best_params_)"
   ]
  },
  {
   "cell_type": "code",
   "execution_count": 150,
   "metadata": {},
   "outputs": [
    {
     "name": "stdout",
     "output_type": "stream",
     "text": [
      "Best model score:  0.3317643919098792\n",
      "Best model parameters:  {'metric': 'euclidean', 'n_neighbors': 5, 'p': 1, 'weights': 'distance'}\n"
     ]
    }
   ],
   "source": [
    "knn(X3_train, Y3_train)"
   ]
  },
  {
   "cell_type": "code",
   "execution_count": 151,
   "metadata": {},
   "outputs": [
    {
     "name": "stdout",
     "output_type": "stream",
     "text": [
      "Best model score:  0.34716604216064134\n",
      "Best model parameters:  {'metric': 'euclidean', 'n_neighbors': 10, 'p': 1, 'weights': 'distance'}\n"
     ]
    }
   ],
   "source": [
    "knn(X4_train, Y4_train)"
   ]
  },
  {
   "cell_type": "code",
   "execution_count": 152,
   "metadata": {},
   "outputs": [
    {
     "name": "stdout",
     "output_type": "stream",
     "text": [
      "Accuracy:  0.4996410624551328\n",
      "Micro F1:  0.4996410624551328\n",
      "Micro Precision:  0.4996410624551328\n",
      "Micro Recall:  0.4996410624551328\n",
      "Macro F1:  0.3604180115303253\n",
      "Macro Precision:  0.39513828795109035\n",
      "Macro Recall:  0.3540533593229969\n"
     ]
    }
   ],
   "source": [
    "knn_TFIDF = KNeighborsClassifier(metric='euclidean', n_neighbors=5, p=1, weights='distance').fit(X3_train, Y3_train)\n",
    "knn_TFIDF_pred = knn_TFIDF.predict(X3_test)\n",
    "score2(knn_TFIDF_pred, Y3_test)"
   ]
  },
  {
   "cell_type": "code",
   "execution_count": 154,
   "metadata": {},
   "outputs": [
    {
     "name": "stdout",
     "output_type": "stream",
     "text": [
      "Accuracy:  0.5371500358937545\n",
      "Micro F1:  0.5371500358937545\n",
      "Micro Precision:  0.5371500358937545\n",
      "Micro Recall:  0.5371500358937545\n",
      "Macro F1:  0.37165920867774627\n",
      "Macro Precision:  0.44603971769655465\n",
      "Macro Recall:  0.3567329515916738\n"
     ]
    }
   ],
   "source": [
    "knn_Count = KNeighborsClassifier(metric='euclidean', n_neighbors=10, p=1, weights='distance').fit(X4_train, Y4_train)\n",
    "knn_Count_pred = knn_Count.predict(X4_test)\n",
    "score2(knn_Count_pred, Y4_test)"
   ]
  },
  {
   "cell_type": "markdown",
   "metadata": {},
   "source": [
    "А в случае с KNN небольшая разница между векторайзерами заметна. И в данном случае CountVectorizer оказывается чуть лучше (если смотреть на accuracy)"
   ]
  },
  {
   "cell_type": "markdown",
   "metadata": {},
   "source": [
    "#### Ridge Classifier"
   ]
  },
  {
   "cell_type": "code",
   "execution_count": 156,
   "metadata": {},
   "outputs": [],
   "source": [
    "def ridgeclass(X_train, Y_train):\n",
    "    model = RidgeClassifier()\n",
    "    param_grid = {'alpha': [0.00001, 0.0001, 0.001, 0.01, 0.1, 1.0, 10.0, 100.0, 1000.0, 10000.0],\n",
    "                  'solver': ['newton-cg', 'lbfgs', 'lsqr', 'sag', 'saga', 'auto', 'svd', 'cholesky', 'sparse_cg'],\n",
    "                  'fit_intercept': [True, False],\n",
    "                  'normalize': [True, False]}\n",
    "    cv = RepeatedKFold(n_splits=5, n_repeats=3, random_state=1)\n",
    "    search = GridSearchCV(estimator=model, param_grid=param_grid, scoring='f1_macro', n_jobs=-1, cv=cv)\n",
    "    result = search.fit(X_train, Y_train)\n",
    "    print(\"Best model score: \", result.best_score_)\n",
    "    print(\"Best model parameters: \", result.best_params_)"
   ]
  },
  {
   "cell_type": "code",
   "execution_count": 157,
   "metadata": {},
   "outputs": [
    {
     "name": "stdout",
     "output_type": "stream",
     "text": [
      "Best model score:  0.38254998514368255\n",
      "Best model parameters:  {'alpha': 0.1, 'fit_intercept': True, 'normalize': True, 'solver': 'sag'}\n"
     ]
    }
   ],
   "source": [
    "ridgeclass(X3_train, Y3_train)"
   ]
  },
  {
   "cell_type": "code",
   "execution_count": 158,
   "metadata": {},
   "outputs": [
    {
     "name": "stdout",
     "output_type": "stream",
     "text": [
      "Best model score:  0.39553455609165983\n",
      "Best model parameters:  {'alpha': 1.0, 'fit_intercept': True, 'normalize': True, 'solver': 'sag'}\n"
     ]
    }
   ],
   "source": [
    "ridgeclass(X4_train, Y4_train)"
   ]
  },
  {
   "cell_type": "code",
   "execution_count": 159,
   "metadata": {},
   "outputs": [
    {
     "name": "stdout",
     "output_type": "stream",
     "text": [
      "Accuracy:  0.5450466618808327\n",
      "Micro F1:  0.5450466618808327\n",
      "Micro Precision:  0.5450466618808327\n",
      "Micro Recall:  0.5450466618808327\n",
      "Macro F1:  0.39904720016420864\n",
      "Macro Precision:  0.43221060433649994\n",
      "Macro Recall:  0.3892733518028855\n"
     ]
    }
   ],
   "source": [
    "ridgeclass_TFIDF = RidgeClassifier(alpha=0.1, fit_intercept=True, normalize=True, solver='sag').fit(X3_train, Y3_train)\n",
    "ridgeclass_TFIDF_pred = ridgeclass_TFIDF.predict(X3_test)\n",
    "score2(ridgeclass_TFIDF_pred, Y3_test)"
   ]
  },
  {
   "cell_type": "code",
   "execution_count": 160,
   "metadata": {},
   "outputs": [
    {
     "name": "stdout",
     "output_type": "stream",
     "text": [
      "Accuracy:  0.547559224694903\n",
      "Micro F1:  0.547559224694903\n",
      "Micro Precision:  0.547559224694903\n",
      "Micro Recall:  0.547559224694903\n",
      "Macro F1:  0.39450948612385384\n",
      "Macro Precision:  0.4334382376012232\n",
      "Macro Recall:  0.3926256454570827\n"
     ]
    }
   ],
   "source": [
    "ridgeclass_Count = RidgeClassifier(alpha=1.0, fit_intercept=True, normalize=True, solver='sag').fit(X4_train, Y4_train)\n",
    "ridgeclass_Count_pred = ridgeclass_Count.predict(X4_test)\n",
    "score2(ridgeclass_Count_pred, Y4_test)"
   ]
  },
  {
   "cell_type": "markdown",
   "metadata": {},
   "source": [
    "Пока кажется, из всех моделей лучшие результаты у логистической регрессии"
   ]
  },
  {
   "cell_type": "markdown",
   "metadata": {},
   "source": [
    "#### Decision Tree"
   ]
  },
  {
   "cell_type": "code",
   "execution_count": 168,
   "metadata": {},
   "outputs": [],
   "source": [
    "def decisiontree(X_train, Y_train):\n",
    "    model = DecisionTreeClassifier()\n",
    "    param_grid = {'criterion': ['gini', 'entropy'],\n",
    "                  'splitter': ['best', 'random'],\n",
    "                  'max_features': ['auto', 'sqrt', 'log2', None]}\n",
    "    cv = RepeatedKFold(n_splits=5, n_repeats=3, random_state=1)\n",
    "    search = GridSearchCV(estimator=model, param_grid=param_grid, scoring='f1_macro', n_jobs=-1, cv=cv)\n",
    "    result = search.fit(X_train, Y_train)\n",
    "    print(\"Best model score: \", result.best_score_)\n",
    "    print(\"Best model parameters: \", result.best_params_)"
   ]
  },
  {
   "cell_type": "code",
   "execution_count": 169,
   "metadata": {},
   "outputs": [
    {
     "name": "stdout",
     "output_type": "stream",
     "text": [
      "Best model score:  0.35589803979545453\n",
      "Best model parameters:  {'criterion': 'entropy', 'max_features': None, 'splitter': 'best'}\n"
     ]
    }
   ],
   "source": [
    "decisiontree(X3_train, Y3_train)"
   ]
  },
  {
   "cell_type": "code",
   "execution_count": 170,
   "metadata": {},
   "outputs": [
    {
     "name": "stdout",
     "output_type": "stream",
     "text": [
      "Best model score:  0.3578449064592125\n",
      "Best model parameters:  {'criterion': 'gini', 'max_features': None, 'splitter': 'random'}\n"
     ]
    }
   ],
   "source": [
    "decisiontree(X4_train, Y4_train)"
   ]
  },
  {
   "cell_type": "code",
   "execution_count": 171,
   "metadata": {},
   "outputs": [
    {
     "name": "stdout",
     "output_type": "stream",
     "text": [
      "Accuracy:  0.5522254127781766\n",
      "Micro F1:  0.5522254127781766\n",
      "Micro Precision:  0.5522254127781766\n",
      "Micro Recall:  0.5522254127781766\n",
      "Macro F1:  0.3738901708641394\n",
      "Macro Precision:  0.41487565523563247\n",
      "Macro Recall:  0.36554828743095014\n"
     ]
    }
   ],
   "source": [
    "decisiontree_TFIDF = DecisionTreeClassifier(criterion='entropy', max_features=None, splitter='best').fit(X3_train, Y3_train)\n",
    "decisiontree_TFIDF_pred = decisiontree_TFIDF.predict(X3_test)\n",
    "score2(decisiontree_TFIDF_pred, Y3_test)"
   ]
  },
  {
   "cell_type": "code",
   "execution_count": 172,
   "metadata": {},
   "outputs": [
    {
     "name": "stdout",
     "output_type": "stream",
     "text": [
      "Accuracy:  0.5536611629576453\n",
      "Micro F1:  0.5536611629576453\n",
      "Micro Precision:  0.5536611629576453\n",
      "Micro Recall:  0.5536611629576453\n",
      "Macro F1:  0.37345728787082316\n",
      "Macro Precision:  0.4152322263410551\n",
      "Macro Recall:  0.3664806928434663\n"
     ]
    }
   ],
   "source": [
    "decisiontree_Count = DecisionTreeClassifier(criterion='gini', max_features=None, splitter='random').fit(X4_train, Y4_train)\n",
    "decisiontree_Count_pred = decisiontree_Count.predict(X4_test)\n",
    "score2(decisiontree_Count_pred, Y4_test)"
   ]
  },
  {
   "cell_type": "markdown",
   "metadata": {},
   "source": [
    "#### Random Forest"
   ]
  },
  {
   "cell_type": "code",
   "execution_count": 162,
   "metadata": {},
   "outputs": [],
   "source": [
    "def randomforest(X_train, Y_train):\n",
    "    model = RandomForestClassifier()\n",
    "    param_grid = {'n_estimators': [10, 20, 30, 40, 50, 60, 70, 80, 90, 100],\n",
    "                  'criterion': ['gini', 'entropy'],\n",
    "                  'max_features': ['auto', 'sqrt', 'log2'],\n",
    "                  'class_weight': ['balanced', 'balanced_subsample']}\n",
    "    cv = RepeatedKFold(n_splits=5, n_repeats=3, random_state=1)\n",
    "    search = GridSearchCV(estimator=model, param_grid=param_grid, scoring='f1_macro', n_jobs=-1, cv=cv)\n",
    "    result = search.fit(X_train, Y_train)\n",
    "    print(\"Best model score: \", result.best_score_)\n",
    "    print(\"Best model parameters: \", result.best_params_)"
   ]
  },
  {
   "cell_type": "code",
   "execution_count": 163,
   "metadata": {},
   "outputs": [
    {
     "name": "stdout",
     "output_type": "stream",
     "text": [
      "Best model score:  0.3854858857115262\n",
      "Best model parameters:  {'class_weight': 'balanced_subsample', 'criterion': 'entropy', 'max_features': 'auto', 'n_estimators': 80}\n"
     ]
    }
   ],
   "source": [
    "randomforest(X3_train, Y3_train)"
   ]
  },
  {
   "cell_type": "code",
   "execution_count": 164,
   "metadata": {},
   "outputs": [
    {
     "name": "stdout",
     "output_type": "stream",
     "text": [
      "Best model score:  0.37834526665590557\n",
      "Best model parameters:  {'class_weight': 'balanced', 'criterion': 'entropy', 'max_features': 'auto', 'n_estimators': 50}\n"
     ]
    }
   ],
   "source": [
    "randomforest(X4_train, Y4_train)"
   ]
  },
  {
   "cell_type": "code",
   "execution_count": 165,
   "metadata": {},
   "outputs": [
    {
     "name": "stdout",
     "output_type": "stream",
     "text": [
      "Accuracy:  0.5073582196697775\n",
      "Micro F1:  0.5073582196697775\n",
      "Micro Precision:  0.5073582196697775\n",
      "Micro Recall:  0.5073582196697775\n",
      "Macro F1:  0.385934043434007\n",
      "Macro Precision:  0.4128531100310348\n",
      "Macro Recall:  0.3834946710100483\n"
     ]
    }
   ],
   "source": [
    "randomforest_TFIDF = RandomForestClassifier(n_estimators=80, criterion='entropy', max_features='auto', class_weight='balanced_subsample').fit(X3_train, Y3_train)\n",
    "randomforest_TFIDF_pred = randomforest_TFIDF.predict(X3_test)\n",
    "score2(randomforest_TFIDF_pred, Y3_test)"
   ]
  },
  {
   "cell_type": "code",
   "execution_count": 167,
   "metadata": {},
   "outputs": [
    {
     "name": "stdout",
     "output_type": "stream",
     "text": [
      "Accuracy:  0.4858219669777459\n",
      "Micro F1:  0.4858219669777459\n",
      "Micro Precision:  0.4858219669777459\n",
      "Micro Recall:  0.4858219669777459\n",
      "Macro F1:  0.3749660383778088\n",
      "Macro Precision:  0.3810283542761931\n",
      "Macro Recall:  0.37705463368743003\n"
     ]
    }
   ],
   "source": [
    "randomforest_Count = RandomForestClassifier(n_estimators=50, criterion='entropy', max_features='auto', class_weight='balanced').fit(X4_train, Y4_train)\n",
    "randomforest_Count_pred = randomforest_Count.predict(X4_test)\n",
    "score2(randomforest_Count_pred, Y4_test)"
   ]
  },
  {
   "cell_type": "markdown",
   "metadata": {},
   "source": [
    "#### Оценка моделей с помощью confusion matrix\n",
    "\n",
    "Для матрицы в каждом случае выбирались чуть более лучшие модели (по accuracy). Если результат по данным, векторизованным tf-idf, был лучше, то выбирался он, если же нет, то соответственно выбирался другой."
   ]
  },
  {
   "cell_type": "code",
   "execution_count": 177,
   "metadata": {},
   "outputs": [
    {
     "data": {
      "text/html": [
       "<div>\n",
       "<style scoped>\n",
       "    .dataframe tbody tr th:only-of-type {\n",
       "        vertical-align: middle;\n",
       "    }\n",
       "\n",
       "    .dataframe tbody tr th {\n",
       "        vertical-align: top;\n",
       "    }\n",
       "\n",
       "    .dataframe thead th {\n",
       "        text-align: right;\n",
       "    }\n",
       "</style>\n",
       "<table border=\"1\" class=\"dataframe\">\n",
       "  <thead>\n",
       "    <tr style=\"text-align: right;\">\n",
       "      <th></th>\n",
       "      <th>1</th>\n",
       "      <th>2</th>\n",
       "      <th>3</th>\n",
       "      <th>4</th>\n",
       "      <th>5</th>\n",
       "    </tr>\n",
       "  </thead>\n",
       "  <tbody>\n",
       "    <tr>\n",
       "      <td>1</td>\n",
       "      <td>648</td>\n",
       "      <td>30</td>\n",
       "      <td>33</td>\n",
       "      <td>40</td>\n",
       "      <td>305</td>\n",
       "    </tr>\n",
       "    <tr>\n",
       "      <td>2</td>\n",
       "      <td>104</td>\n",
       "      <td>17</td>\n",
       "      <td>36</td>\n",
       "      <td>35</td>\n",
       "      <td>137</td>\n",
       "    </tr>\n",
       "    <tr>\n",
       "      <td>3</td>\n",
       "      <td>87</td>\n",
       "      <td>16</td>\n",
       "      <td>67</td>\n",
       "      <td>62</td>\n",
       "      <td>259</td>\n",
       "    </tr>\n",
       "    <tr>\n",
       "      <td>4</td>\n",
       "      <td>68</td>\n",
       "      <td>17</td>\n",
       "      <td>43</td>\n",
       "      <td>121</td>\n",
       "      <td>806</td>\n",
       "    </tr>\n",
       "    <tr>\n",
       "      <td>5</td>\n",
       "      <td>77</td>\n",
       "      <td>6</td>\n",
       "      <td>33</td>\n",
       "      <td>136</td>\n",
       "      <td>2389</td>\n",
       "    </tr>\n",
       "  </tbody>\n",
       "</table>\n",
       "</div>"
      ],
      "text/plain": [
       "     1   2   3    4     5\n",
       "1  648  30  33   40   305\n",
       "2  104  17  36   35   137\n",
       "3   87  16  67   62   259\n",
       "4   68  17  43  121   806\n",
       "5   77   6  33  136  2389"
      ]
     },
     "execution_count": 177,
     "metadata": {},
     "output_type": "execute_result"
    }
   ],
   "source": [
    "confusion_matrix_LogR = confusion_matrix(y_true=Y3_test, y_pred=LogR_TFIDF_pred)\n",
    "df1 = pd.DataFrame(confusion_matrix_LogR,\n",
    "                     index = [1, 2, 3, 4, 5], \n",
    "                     columns = [1, 2, 3, 4, 5])\n",
    "df1"
   ]
  },
  {
   "cell_type": "code",
   "execution_count": 178,
   "metadata": {},
   "outputs": [
    {
     "data": {
      "text/html": [
       "<div>\n",
       "<style scoped>\n",
       "    .dataframe tbody tr th:only-of-type {\n",
       "        vertical-align: middle;\n",
       "    }\n",
       "\n",
       "    .dataframe tbody tr th {\n",
       "        vertical-align: top;\n",
       "    }\n",
       "\n",
       "    .dataframe thead th {\n",
       "        text-align: right;\n",
       "    }\n",
       "</style>\n",
       "<table border=\"1\" class=\"dataframe\">\n",
       "  <thead>\n",
       "    <tr style=\"text-align: right;\">\n",
       "      <th></th>\n",
       "      <th>1</th>\n",
       "      <th>2</th>\n",
       "      <th>3</th>\n",
       "      <th>4</th>\n",
       "      <th>5</th>\n",
       "    </tr>\n",
       "  </thead>\n",
       "  <tbody>\n",
       "    <tr>\n",
       "      <td>1</td>\n",
       "      <td>531</td>\n",
       "      <td>30</td>\n",
       "      <td>19</td>\n",
       "      <td>68</td>\n",
       "      <td>408</td>\n",
       "    </tr>\n",
       "    <tr>\n",
       "      <td>2</td>\n",
       "      <td>89</td>\n",
       "      <td>31</td>\n",
       "      <td>20</td>\n",
       "      <td>42</td>\n",
       "      <td>147</td>\n",
       "    </tr>\n",
       "    <tr>\n",
       "      <td>3</td>\n",
       "      <td>57</td>\n",
       "      <td>21</td>\n",
       "      <td>63</td>\n",
       "      <td>86</td>\n",
       "      <td>264</td>\n",
       "    </tr>\n",
       "    <tr>\n",
       "      <td>4</td>\n",
       "      <td>56</td>\n",
       "      <td>15</td>\n",
       "      <td>28</td>\n",
       "      <td>284</td>\n",
       "      <td>672</td>\n",
       "    </tr>\n",
       "    <tr>\n",
       "      <td>5</td>\n",
       "      <td>115</td>\n",
       "      <td>12</td>\n",
       "      <td>21</td>\n",
       "      <td>409</td>\n",
       "      <td>2084</td>\n",
       "    </tr>\n",
       "  </tbody>\n",
       "</table>\n",
       "</div>"
      ],
      "text/plain": [
       "     1   2   3    4     5\n",
       "1  531  30  19   68   408\n",
       "2   89  31  20   42   147\n",
       "3   57  21  63   86   264\n",
       "4   56  15  28  284   672\n",
       "5  115  12  21  409  2084"
      ]
     },
     "execution_count": 178,
     "metadata": {},
     "output_type": "execute_result"
    }
   ],
   "source": [
    "confusion_matrix_knn = confusion_matrix(y_true=Y4_test, y_pred=knn_Count_pred)\n",
    "df2 = pd.DataFrame(confusion_matrix_knn,\n",
    "                     index = [1, 2, 3, 4, 5], \n",
    "                     columns = [1, 2, 3, 4, 5])\n",
    "df2"
   ]
  },
  {
   "cell_type": "code",
   "execution_count": 179,
   "metadata": {},
   "outputs": [
    {
     "data": {
      "text/html": [
       "<div>\n",
       "<style scoped>\n",
       "    .dataframe tbody tr th:only-of-type {\n",
       "        vertical-align: middle;\n",
       "    }\n",
       "\n",
       "    .dataframe tbody tr th {\n",
       "        vertical-align: top;\n",
       "    }\n",
       "\n",
       "    .dataframe thead th {\n",
       "        text-align: right;\n",
       "    }\n",
       "</style>\n",
       "<table border=\"1\" class=\"dataframe\">\n",
       "  <thead>\n",
       "    <tr style=\"text-align: right;\">\n",
       "      <th></th>\n",
       "      <th>1</th>\n",
       "      <th>2</th>\n",
       "      <th>3</th>\n",
       "      <th>4</th>\n",
       "      <th>5</th>\n",
       "    </tr>\n",
       "  </thead>\n",
       "  <tbody>\n",
       "    <tr>\n",
       "      <td>1</td>\n",
       "      <td>674</td>\n",
       "      <td>35</td>\n",
       "      <td>30</td>\n",
       "      <td>110</td>\n",
       "      <td>207</td>\n",
       "    </tr>\n",
       "    <tr>\n",
       "      <td>2</td>\n",
       "      <td>114</td>\n",
       "      <td>18</td>\n",
       "      <td>33</td>\n",
       "      <td>77</td>\n",
       "      <td>87</td>\n",
       "    </tr>\n",
       "    <tr>\n",
       "      <td>3</td>\n",
       "      <td>90</td>\n",
       "      <td>16</td>\n",
       "      <td>78</td>\n",
       "      <td>159</td>\n",
       "      <td>148</td>\n",
       "    </tr>\n",
       "    <tr>\n",
       "      <td>4</td>\n",
       "      <td>64</td>\n",
       "      <td>9</td>\n",
       "      <td>44</td>\n",
       "      <td>435</td>\n",
       "      <td>503</td>\n",
       "    </tr>\n",
       "    <tr>\n",
       "      <td>5</td>\n",
       "      <td>132</td>\n",
       "      <td>4</td>\n",
       "      <td>39</td>\n",
       "      <td>620</td>\n",
       "      <td>1846</td>\n",
       "    </tr>\n",
       "  </tbody>\n",
       "</table>\n",
       "</div>"
      ],
      "text/plain": [
       "     1   2   3    4     5\n",
       "1  674  35  30  110   207\n",
       "2  114  18  33   77    87\n",
       "3   90  16  78  159   148\n",
       "4   64   9  44  435   503\n",
       "5  132   4  39  620  1846"
      ]
     },
     "execution_count": 179,
     "metadata": {},
     "output_type": "execute_result"
    }
   ],
   "source": [
    "confusion_matrix_ridgeclass = confusion_matrix(y_true=Y4_test, y_pred=ridgeclass_Count_pred)\n",
    "df3 = pd.DataFrame(confusion_matrix_ridgeclass,\n",
    "                     index = [1, 2, 3, 4, 5], \n",
    "                     columns = [1, 2, 3, 4, 5])\n",
    "df3"
   ]
  },
  {
   "cell_type": "code",
   "execution_count": 180,
   "metadata": {},
   "outputs": [
    {
     "data": {
      "text/html": [
       "<div>\n",
       "<style scoped>\n",
       "    .dataframe tbody tr th:only-of-type {\n",
       "        vertical-align: middle;\n",
       "    }\n",
       "\n",
       "    .dataframe tbody tr th {\n",
       "        vertical-align: top;\n",
       "    }\n",
       "\n",
       "    .dataframe thead th {\n",
       "        text-align: right;\n",
       "    }\n",
       "</style>\n",
       "<table border=\"1\" class=\"dataframe\">\n",
       "  <thead>\n",
       "    <tr style=\"text-align: right;\">\n",
       "      <th></th>\n",
       "      <th>1</th>\n",
       "      <th>2</th>\n",
       "      <th>3</th>\n",
       "      <th>4</th>\n",
       "      <th>5</th>\n",
       "    </tr>\n",
       "  </thead>\n",
       "  <tbody>\n",
       "    <tr>\n",
       "      <td>1</td>\n",
       "      <td>579</td>\n",
       "      <td>60</td>\n",
       "      <td>42</td>\n",
       "      <td>44</td>\n",
       "      <td>331</td>\n",
       "    </tr>\n",
       "    <tr>\n",
       "      <td>2</td>\n",
       "      <td>99</td>\n",
       "      <td>40</td>\n",
       "      <td>31</td>\n",
       "      <td>23</td>\n",
       "      <td>136</td>\n",
       "    </tr>\n",
       "    <tr>\n",
       "      <td>3</td>\n",
       "      <td>85</td>\n",
       "      <td>25</td>\n",
       "      <td>81</td>\n",
       "      <td>58</td>\n",
       "      <td>242</td>\n",
       "    </tr>\n",
       "    <tr>\n",
       "      <td>4</td>\n",
       "      <td>60</td>\n",
       "      <td>43</td>\n",
       "      <td>42</td>\n",
       "      <td>166</td>\n",
       "      <td>744</td>\n",
       "    </tr>\n",
       "    <tr>\n",
       "      <td>5</td>\n",
       "      <td>111</td>\n",
       "      <td>35</td>\n",
       "      <td>44</td>\n",
       "      <td>232</td>\n",
       "      <td>2219</td>\n",
       "    </tr>\n",
       "  </tbody>\n",
       "</table>\n",
       "</div>"
      ],
      "text/plain": [
       "     1   2   3    4     5\n",
       "1  579  60  42   44   331\n",
       "2   99  40  31   23   136\n",
       "3   85  25  81   58   242\n",
       "4   60  43  42  166   744\n",
       "5  111  35  44  232  2219"
      ]
     },
     "execution_count": 180,
     "metadata": {},
     "output_type": "execute_result"
    }
   ],
   "source": [
    "confusion_matrix_tree = confusion_matrix(y_true=Y4_test, y_pred=decisiontree_Count_pred)\n",
    "df4 = pd.DataFrame(confusion_matrix_tree,\n",
    "                     index = [1, 2, 3, 4, 5], \n",
    "                     columns = [1, 2, 3, 4, 5])\n",
    "df4"
   ]
  },
  {
   "cell_type": "code",
   "execution_count": 181,
   "metadata": {
    "scrolled": true
   },
   "outputs": [
    {
     "data": {
      "text/html": [
       "<div>\n",
       "<style scoped>\n",
       "    .dataframe tbody tr th:only-of-type {\n",
       "        vertical-align: middle;\n",
       "    }\n",
       "\n",
       "    .dataframe tbody tr th {\n",
       "        vertical-align: top;\n",
       "    }\n",
       "\n",
       "    .dataframe thead th {\n",
       "        text-align: right;\n",
       "    }\n",
       "</style>\n",
       "<table border=\"1\" class=\"dataframe\">\n",
       "  <thead>\n",
       "    <tr style=\"text-align: right;\">\n",
       "      <th></th>\n",
       "      <th>1</th>\n",
       "      <th>2</th>\n",
       "      <th>3</th>\n",
       "      <th>4</th>\n",
       "      <th>5</th>\n",
       "    </tr>\n",
       "  </thead>\n",
       "  <tbody>\n",
       "    <tr>\n",
       "      <td>1</td>\n",
       "      <td>604</td>\n",
       "      <td>133</td>\n",
       "      <td>39</td>\n",
       "      <td>66</td>\n",
       "      <td>214</td>\n",
       "    </tr>\n",
       "    <tr>\n",
       "      <td>2</td>\n",
       "      <td>97</td>\n",
       "      <td>68</td>\n",
       "      <td>32</td>\n",
       "      <td>50</td>\n",
       "      <td>82</td>\n",
       "    </tr>\n",
       "    <tr>\n",
       "      <td>3</td>\n",
       "      <td>82</td>\n",
       "      <td>72</td>\n",
       "      <td>67</td>\n",
       "      <td>94</td>\n",
       "      <td>176</td>\n",
       "    </tr>\n",
       "    <tr>\n",
       "      <td>4</td>\n",
       "      <td>59</td>\n",
       "      <td>86</td>\n",
       "      <td>33</td>\n",
       "      <td>372</td>\n",
       "      <td>505</td>\n",
       "    </tr>\n",
       "    <tr>\n",
       "      <td>5</td>\n",
       "      <td>97</td>\n",
       "      <td>207</td>\n",
       "      <td>21</td>\n",
       "      <td>600</td>\n",
       "      <td>1716</td>\n",
       "    </tr>\n",
       "  </tbody>\n",
       "</table>\n",
       "</div>"
      ],
      "text/plain": [
       "     1    2   3    4     5\n",
       "1  604  133  39   66   214\n",
       "2   97   68  32   50    82\n",
       "3   82   72  67   94   176\n",
       "4   59   86  33  372   505\n",
       "5   97  207  21  600  1716"
      ]
     },
     "execution_count": 181,
     "metadata": {},
     "output_type": "execute_result"
    }
   ],
   "source": [
    "confusion_matrix_forest = confusion_matrix(y_true=Y3_test, y_pred=randomforest_TFIDF_pred)\n",
    "df5 = pd.DataFrame(confusion_matrix_forest,\n",
    "                     index = [1, 2, 3, 4, 5], \n",
    "                     columns = [1, 2, 3, 4, 5])\n",
    "df5"
   ]
  },
  {
   "cell_type": "markdown",
   "metadata": {},
   "source": [
    "#### Итог"
   ]
  },
  {
   "cell_type": "markdown",
   "metadata": {},
   "source": [
    "В целом, подводя итог, можно сказать, что некоторые модели лучше определяют одни классы оценок, а другие - соответственно другие. \n",
    "\n",
    "\n",
    "Но среди рассмотренных моделей в качестве лучших можно выделить модель логистической регрессии и Ridge Classifier. При этом, по-моему, логистическая регрессия справилась чуть лучше.\n",
    "\n",
    "\n",
    "Можно отметить, что логистической регрессией лучше определяются оценки 5, а Ridge лучше определяет 4 и 1.\n",
    "\n",
    "При этом из общих недостатков можно отметить, что почему-то все модели достаточно часто путают оценки 4 и 5 (как пятерку с четверкой, так и наоборот), а также часто вместо 1, отзыв определяется как 5."
   ]
  }
 ],
 "metadata": {
  "kernelspec": {
   "display_name": "Python 3",
   "language": "python",
   "name": "python3"
  },
  "language_info": {
   "codemirror_mode": {
    "name": "ipython",
    "version": 3
   },
   "file_extension": ".py",
   "mimetype": "text/x-python",
   "name": "python",
   "nbconvert_exporter": "python",
   "pygments_lexer": "ipython3",
   "version": "3.7.0"
  }
 },
 "nbformat": 4,
 "nbformat_minor": 2
}
